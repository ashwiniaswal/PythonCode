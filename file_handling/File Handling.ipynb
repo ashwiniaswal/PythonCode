{
 "cells": [
  {
   "cell_type": "markdown",
   "metadata": {},
   "source": [
    "# File Handling"
   ]
  },
  {
   "cell_type": "raw",
   "metadata": {},
   "source": [
    "File is the collection of data, it is a permanent storage.\n",
    "Two Types of File :-\n",
    "1. Text file - Have fixed unicode, utf 8 for python.\n",
    "2. Byte file(binary) - Non texted file such as images and Videos\n",
    "File buffer - buffer - area where data is stored, buffer space is RAM where any program stores data temporarily.\n",
    "\n",
    "To open or create a new file\n",
    "fp = open(fname-path,mode,buffer_size) - default mode is read mode\n",
    "File pointer points to the start of the file(fp).\n",
    "buffer_size is auto, by default mode is r(read)- reads from where the cursor is. \n",
    "w(write)- writes from start of the file(overwrite). \n",
    "a(append)- append or add the text to end of the file. \n",
    "\n",
    "Read(r) mode have 4 types - \n",
    "1. 'r' - read only \n",
    "2. 'r+' - read-write mode - couldn't write file if it doesn't exist. \n",
    "3. 'rb' - read byte file (byte file is file which is not text file ) \n",
    "4. 'rb+' - read-write byte file (byte file is file which is not text file )\n",
    "Write(w) mode have 4 types - overwrite - \n",
    "1. 'w' - write only \n",
    "2. 'w+' - write-read mode \n",
    "3. 'wb' - write byte file \n",
    "4. 'wb+' - write-read byte file \n",
    "Append(a) mode have 4 types - starts dumping data without overwriting -\n",
    "1.'a' - append only \n",
    "2. 'a+' - append-read \n",
    "3. 'ab' - append byte file \n",
    "4. 'ab+' - append-read byte file \n",
    "\n",
    "seek() - go anywhere - file_name.seek(position ,from where) - \n",
    "from where - 0 is for beginning(position will be +ve), 1 is for current position(position will be +ve or -ve), 2 is for end position(position will be -ve)"
   ]
  },
  {
   "cell_type": "code",
   "execution_count": 2,
   "metadata": {},
   "outputs": [],
   "source": [
    "f = open('C:\\\\internbatch\\\\file_handling\\\\text','w')\n",
    "f.write(\"hi hello how are you...\") #write string to the file\n",
    "f.close()"
   ]
  },
  {
   "cell_type": "code",
   "execution_count": 4,
   "metadata": {},
   "outputs": [
    {
     "name": "stdout",
     "output_type": "stream",
     "text": [
      "Enter file to overwrite :  Hello World\n",
      "Write :wq to exit and save file \n"
     ]
    },
    {
     "ename": "TypeError",
     "evalue": "write() takes exactly one argument (0 given)",
     "output_type": "error",
     "traceback": [
      "\u001b[1;31m---------------------------------------------------------------------------\u001b[0m",
      "\u001b[1;31mTypeError\u001b[0m                                 Traceback (most recent call last)",
      "\u001b[1;32m<ipython-input-4-0f8accc91eba>\u001b[0m in \u001b[0;36m<module>\u001b[1;34m()\u001b[0m\n\u001b[0;32m      2\u001b[0m \u001b[0mf\u001b[0m \u001b[1;33m=\u001b[0m \u001b[0mopen\u001b[0m\u001b[1;33m(\u001b[0m\u001b[1;34m'C:\\\\internbatch\\\\file_handling\\\\{}'\u001b[0m\u001b[1;33m.\u001b[0m\u001b[0mformat\u001b[0m\u001b[1;33m(\u001b[0m\u001b[0mf\u001b[0m\u001b[1;33m)\u001b[0m\u001b[1;33m,\u001b[0m\u001b[1;34m'w'\u001b[0m\u001b[1;33m)\u001b[0m\u001b[1;33m\u001b[0m\u001b[0m\n\u001b[0;32m      3\u001b[0m \u001b[0mprint\u001b[0m\u001b[1;33m(\u001b[0m\u001b[1;34m'Write :wq to exit and save file '\u001b[0m\u001b[1;33m)\u001b[0m\u001b[1;33m\u001b[0m\u001b[0m\n\u001b[1;32m----> 4\u001b[1;33m \u001b[0mf\u001b[0m\u001b[1;33m.\u001b[0m\u001b[0mwrite\u001b[0m\u001b[1;33m(\u001b[0m\u001b[1;33m)\u001b[0m\u001b[1;33m\u001b[0m\u001b[0m\n\u001b[0m",
      "\u001b[1;31mTypeError\u001b[0m: write() takes exactly one argument (0 given)"
     ]
    }
   ],
   "source": [
    "f = input(\"Enter file to overwrite :  \")\n",
    "f = open('C:\\\\internbatch\\\\file_handling\\\\{}'.format(f),'w')\n",
    "print('Write :wq to exit and save file ')\n",
    "f.write()"
   ]
  },
  {
   "cell_type": "code",
   "execution_count": null,
   "metadata": {
    "collapsed": true
   },
   "outputs": [],
   "source": []
  }
 ],
 "metadata": {
  "kernelspec": {
   "display_name": "Python 3",
   "language": "python",
   "name": "python3"
  },
  "language_info": {
   "codemirror_mode": {
    "name": "ipython",
    "version": 3
   },
   "file_extension": ".py",
   "mimetype": "text/x-python",
   "name": "python",
   "nbconvert_exporter": "python",
   "pygments_lexer": "ipython3",
   "version": "3.6.3"
  }
 },
 "nbformat": 4,
 "nbformat_minor": 2
}
