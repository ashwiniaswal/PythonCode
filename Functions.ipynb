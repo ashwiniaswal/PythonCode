{
 "cells": [
  {
   "cell_type": "markdown",
   "metadata": {},
   "source": [
    "# Functions In Python"
   ]
  },
  {
   "cell_type": "code",
   "execution_count": 11,
   "metadata": {},
   "outputs": [
    {
     "name": "stdout",
     "output_type": "stream",
     "text": [
      "Enter your name : ash\n"
     ]
    },
    {
     "data": {
      "text/plain": [
       "'ash'"
      ]
     },
     "execution_count": 11,
     "metadata": {},
     "output_type": "execute_result"
    }
   ],
   "source": [
    "def hello():\n",
    "    name = input(\"Enter your name : \")\n",
    "    return(name)\n",
    "hello()"
   ]
  },
  {
   "cell_type": "code",
   "execution_count": 12,
   "metadata": {
    "collapsed": true
   },
   "outputs": [],
   "source": [
    "def hello():\n",
    "    name = input(\"Enter your name : \")\n",
    "    print(\"Welcome {} to the python functions.\".format(name))"
   ]
  },
  {
   "cell_type": "code",
   "execution_count": 13,
   "metadata": {},
   "outputs": [
    {
     "name": "stdout",
     "output_type": "stream",
     "text": [
      "function calling starts\n",
      "Enter your name : ash\n",
      "Welcome ash to the python functions.\n",
      "function calling finished\n",
      "None\n"
     ]
    }
   ],
   "source": [
    "print(\"function calling starts\")\n",
    "x = hello()\n",
    "print(\"function calling finished\")\n",
    "print(x)"
   ]
  },
  {
   "cell_type": "code",
   "execution_count": 14,
   "metadata": {},
   "outputs": [
    {
     "name": "stdout",
     "output_type": "stream",
     "text": [
      "Enter your name : chia\n",
      "Welcome chia to the python functions.\n"
     ]
    }
   ],
   "source": [
    "hello()"
   ]
  },
  {
   "cell_type": "code",
   "execution_count": 15,
   "metadata": {
    "collapsed": true
   },
   "outputs": [],
   "source": [
    "def calc(x,y,ch):\n",
    "    ch = ch.strip()\n",
    "    if ch == '+':\n",
    "        return x + y\n",
    "    elif ch == '-':\n",
    "        return x - y\n",
    "    elif ch == '*':\n",
    "        return x * y\n",
    "    elif ch == '/' or ch == '//' or ch == '%':\n",
    "        if y == 0:\n",
    "            return \"Error! Can not divide by zero\"\n",
    "        else:\n",
    "            if ch == '/':\n",
    "                return x / y\n",
    "            elif ch == '//':\n",
    "                return x // y\n",
    "            else:\n",
    "                return x % y\n",
    "    elif ch == '**':\n",
    "        return x ** y\n",
    "    else:\n",
    "        return \"Error! Invalid Operation\""
   ]
  },
  {
   "cell_type": "code",
   "execution_count": 20,
   "metadata": {},
   "outputs": [
    {
     "data": {
      "text/plain": [
       "27"
      ]
     },
     "execution_count": 20,
     "metadata": {},
     "output_type": "execute_result"
    }
   ],
   "source": [
    "calc(3,3,'**')"
   ]
  },
  {
   "cell_type": "code",
   "execution_count": 21,
   "metadata": {},
   "outputs": [
    {
     "name": "stdout",
     "output_type": "stream",
     "text": [
      "Do you want to run Calc Program : rgdgbf\n",
      "************************************************** \n",
      "Welcome to Calc Program\n",
      " **************************************************\n",
      "\n",
      "\n",
      "X : 45\n",
      "Y : 65\n",
      "Operation (+,-,*,/,//,%,**) : +\n",
      "Result : 110 \n",
      "Do you want to run Calc Program : 0\n",
      "************************************************** \n",
      "Welcome to Calc Program\n",
      " **************************************************\n",
      "\n",
      "\n",
      "X : 54\n",
      "Y : 345\n",
      "Operation (+,-,*,/,//,%,**) : //\n",
      "Result : 0 \n",
      "Do you want to run Calc Program : \n"
     ]
    }
   ],
   "source": [
    "while input(\"Do you want to run Calc Program : \"):\n",
    "    print(\"*\"*50,\"\\nWelcome to Calc Program\\n\",\"*\"*50)\n",
    "    p = int(input(\"\\n\\nX : \"))\n",
    "    q = int(input(\"Y : \"))\n",
    "    user_choice = input(\"Operation (+,-,*,/,//,%,**) : \")\n",
    "    result = calc(p,q,user_choice)\n",
    "    print(\"Result : %s \"%(result))"
   ]
  },
  {
   "cell_type": "code",
   "execution_count": 22,
   "metadata": {
    "collapsed": true
   },
   "outputs": [],
   "source": [
    "def convert_Dict(p,q,r,s) : #('name','python'),('hello','world')\n",
    "    \"\"\"convert_Dict(p,q,r,s)-> This function takes 4 tuples with no valus each and return a dictionary.\"\"\"\n",
    "    l = [p,q,r,s] #[('name','python'),('hello','world')]\n",
    "    d = dict(l)\n",
    "    return d"
   ]
  },
  {
   "cell_type": "code",
   "execution_count": 23,
   "metadata": {},
   "outputs": [
    {
     "name": "stdout",
     "output_type": "stream",
     "text": [
      "Give input as key = value : \n",
      "\n",
      "\n",
      "!st entry : x=y\n",
      "2nd entry : crying=dying\n",
      "3rd entry : breathe=babe\n",
      "4th entry : hello=world\n",
      "Doc =  convert_Dict(p,q,r,s)-> This function takes 4 tuples with no valus each and return a dictionary.\n",
      "<class 'dict'>\n",
      "{'x': 'y', 'crying': 'dying', 'breathe': 'babe', 'hello': 'world'}\n"
     ]
    }
   ],
   "source": [
    "print(\"Give input as key = value : \\n\\n\")\n",
    "e1 = input(\"!st entry : \").split('=') #'name=python'.strip('=')\n",
    "e2 = input(\"2nd entry : \").split('=') #['name','python']\n",
    "e3 = input(\"3rd entry : \").split('=')\n",
    "e4 = input(\"4th entry : \").split('=')\n",
    "print(\"Doc = \",convert_Dict.__doc__)\n",
    "st1 = convert_Dict(e1,e2,e3,e4)\n",
    "print(type(st1))\n",
    "print(st1)"
   ]
  },
  {
   "cell_type": "code",
   "execution_count": 25,
   "metadata": {},
   "outputs": [
    {
     "name": "stdout",
     "output_type": "stream",
     "text": [
      "Enter a string : ash\n",
      "hsa\n",
      "Enter a list space spreaded : 1 2 3 4 5 6 7 8 9 10\n",
      "['10', '9', '8', '7', '6', '5', '4', '3', '2', '1']\n"
     ]
    }
   ],
   "source": [
    "def reverse(string):\n",
    "    return string[::-1]\n",
    "s= reverse(input(\"Enter a string : \"))\n",
    "print(s)\n",
    "s = reverse(input(\"Enter a list space spreaded : \").split())\n",
    "print(s)"
   ]
  },
  {
   "cell_type": "code",
   "execution_count": 27,
   "metadata": {},
   "outputs": [
    {
     "name": "stdout",
     "output_type": "stream",
     "text": [
      "Enter x : 5\n",
      "Enter y : 10\n",
      "Value of x = 10 and y = 5\n"
     ]
    }
   ],
   "source": [
    "def swap(x,y):\n",
    "    return y,x\n",
    "x,y = int(input(\"Enter x : \")),int(input(\"Enter y : \"))\n",
    "x,y = swap(x,y)\n",
    "print(\"Value of x = {} and y = {}\".format(x,y))"
   ]
  },
  {
   "cell_type": "code",
   "execution_count": 29,
   "metadata": {},
   "outputs": [
    {
     "name": "stdout",
     "output_type": "stream",
     "text": [
      "81\n"
     ]
    }
   ],
   "source": [
    "def pow(x,y):\n",
    "    return x**y\n",
    "x = pow(3,4) #positional Arguments\n",
    "print(x)"
   ]
  },
  {
   "cell_type": "code",
   "execution_count": 30,
   "metadata": {},
   "outputs": [
    {
     "name": "stdout",
     "output_type": "stream",
     "text": [
      "9\n"
     ]
    }
   ],
   "source": [
    "r = pow(y=2,x=3)\n",
    "print(r)"
   ]
  },
  {
   "cell_type": "code",
   "execution_count": 31,
   "metadata": {
    "collapsed": true
   },
   "outputs": [],
   "source": [
    "def pow(x,y=1):\n",
    "    return x**y"
   ]
  },
  {
   "cell_type": "code",
   "execution_count": 33,
   "metadata": {},
   "outputs": [
    {
     "name": "stdout",
     "output_type": "stream",
     "text": [
      "2\n",
      "8\n",
      "1\n",
      "243\n"
     ]
    }
   ],
   "source": [
    "k = pow(2)\n",
    "p = pow(2,3)\n",
    "print(k)\n",
    "print(p)\n",
    "print(pow(y=2,x=1))\n",
    "print(pow(3,y=5))"
   ]
  },
  {
   "cell_type": "code",
   "execution_count": 34,
   "metadata": {},
   "outputs": [
    {
     "name": "stdout",
     "output_type": "stream",
     "text": [
      "0\n",
      "1\n",
      "3\n",
      "55\n"
     ]
    }
   ],
   "source": [
    "def add(*args):\n",
    "    return sum(args)\n",
    "print(add())\n",
    "print(add(1))\n",
    "print(add(1,2))\n",
    "print(add(1,2,3,4,5,6,7,8,9,10))"
   ]
  },
  {
   "cell_type": "code",
   "execution_count": 35,
   "metadata": {},
   "outputs": [
    {
     "name": "stdout",
     "output_type": "stream",
     "text": [
      "<class 'tuple'>\n",
      "Value 1 : one\n",
      "Value 2 : two\n",
      "\n",
      "\n",
      "\n",
      "<class 'tuple'>\n",
      "Value 1 : hello\n",
      "Value 2 : hi\n",
      "Value 3 : how\n",
      "Value 4 : are\n",
      "Value 5 : you\n"
     ]
    }
   ],
   "source": [
    "def info(*args):\n",
    "    print(type(args))\n",
    "    c = 1\n",
    "    for var in args:\n",
    "        print(\"Value {} : {}\".format(c,var))\n",
    "        c = c + 1\n",
    "info('one','two')\n",
    "print(\"\\n\\n\")\n",
    "info('hello','hi','how','are','you')"
   ]
  },
  {
   "cell_type": "code",
   "execution_count": 40,
   "metadata": {},
   "outputs": [
    {
     "name": "stdout",
     "output_type": "stream",
     "text": [
      "<class 'dict'>\n",
      "name = ash\n",
      "\n",
      "<class 'dict'>\n",
      "name = python\n",
      "framework = ['diango', 'flask']\n",
      "\n",
      "Enter your name chia\n",
      "Enter your address jaipur\n",
      "{'name': 'chia', 'addr': 'jaipur'}\n"
     ]
    }
   ],
   "source": [
    "def info(**kwargs):\n",
    "    print(type(kwargs))\n",
    "    for key,value in kwargs.items():\n",
    "        print(\"{} = {}\".format(key,value))\n",
    "info(name = 'ash',)\n",
    "print()\n",
    "info(name = 'python', framework = ['diango', 'flask'])\n",
    "print()\n",
    "def info(**info):\n",
    "    return info\n",
    "st1 = info(name = input(\"Enter your name \"),addr = input(\"Enter your address \"))\n",
    "print(st1)"
   ]
  },
  {
   "cell_type": "code",
   "execution_count": 41,
   "metadata": {
    "collapsed": true
   },
   "outputs": [],
   "source": [
    "def fun(x,y=0,*mytuple):\n",
    "    print(\"Positional Argument : \",x)\n",
    "    print(\"Default Argument : \",y)\n",
    "    print(\"Here is your var length arguments : \")\n",
    "    c = 1\n",
    "    for var in mytuple:\n",
    "        print(\"{} Arg = {}\".format(c,var))\n",
    "        c = c + 1"
   ]
  },
  {
   "cell_type": "code",
   "execution_count": 42,
   "metadata": {},
   "outputs": [
    {
     "name": "stdout",
     "output_type": "stream",
     "text": [
      "Positional Argument :  1\n",
      "Default Argument :  0\n",
      "Here is your var length arguments : \n",
      "Positional Argument :  1\n",
      "Default Argument :  2\n",
      "Here is your var length arguments : \n",
      "Positional Argument :  1\n",
      "Default Argument :  2\n",
      "Here is your var length arguments : \n",
      "1 Arg = 3\n",
      "2 Arg = 4\n",
      "3 Arg = 5\n",
      "4 Arg = 6\n",
      "5 Arg = 7\n",
      "6 Arg = 8\n",
      "7 Arg = 9\n"
     ]
    }
   ],
   "source": [
    "fun(1)\n",
    "fun(1,2)\n",
    "fun(1,2,3,4,5,6,7,8,9)"
   ]
  },
  {
   "cell_type": "code",
   "execution_count": 44,
   "metadata": {},
   "outputs": [
    {
     "name": "stdout",
     "output_type": "stream",
     "text": [
      "(1, 2, 3)\n",
      "(4, 5, 6, 7, 8, 'hello', 'hi', 'bye')\n"
     ]
    }
   ],
   "source": [
    "def fun1(*args):\n",
    "    print(args)\n",
    "fun1(1,2,3)\n",
    "fun1(4,5,6,7,8,'hello','hi','bye')"
   ]
  },
  {
   "cell_type": "code",
   "execution_count": 45,
   "metadata": {
    "collapsed": true
   },
   "outputs": [],
   "source": [
    "def mysum(*args):\n",
    "    return sum(args)"
   ]
  },
  {
   "cell_type": "code",
   "execution_count": 46,
   "metadata": {},
   "outputs": [
    {
     "data": {
      "text/plain": [
       "3532"
      ]
     },
     "execution_count": 46,
     "metadata": {},
     "output_type": "execute_result"
    }
   ],
   "source": [
    "mysum(1,2,4,65,4,34,3422)"
   ]
  },
  {
   "cell_type": "code",
   "execution_count": 48,
   "metadata": {},
   "outputs": [
    {
     "name": "stdout",
     "output_type": "stream",
     "text": [
      "65581\n"
     ]
    }
   ],
   "source": [
    "x = mysum(1,2,3,4,65545,3,23)\n",
    "print(x)"
   ]
  },
  {
   "cell_type": "code",
   "execution_count": 49,
   "metadata": {},
   "outputs": [
    {
     "data": {
      "text/plain": [
       "0"
      ]
     },
     "execution_count": 49,
     "metadata": {},
     "output_type": "execute_result"
    }
   ],
   "source": [
    "mysum()"
   ]
  },
  {
   "cell_type": "code",
   "execution_count": 50,
   "metadata": {
    "collapsed": true
   },
   "outputs": [],
   "source": [
    "def info(**mydict):\n",
    "    print(type(mydict))\n",
    "    for key,value in mydict.items():\n",
    "        print(\"{} = {}\".format(key,value))"
   ]
  },
  {
   "cell_type": "code",
   "execution_count": 51,
   "metadata": {},
   "outputs": [
    {
     "name": "stdout",
     "output_type": "stream",
     "text": [
      "<class 'dict'>\n",
      "name = ash\n"
     ]
    }
   ],
   "source": [
    "info(name='ash')"
   ]
  },
  {
   "cell_type": "code",
   "execution_count": 52,
   "metadata": {},
   "outputs": [
    {
     "name": "stdout",
     "output_type": "stream",
     "text": [
      "<class 'dict'>\n",
      "one = 1\n",
      "two = 2\n",
      "three = 3\n"
     ]
    }
   ],
   "source": [
    "info(one=1,two=2,three=3)"
   ]
  },
  {
   "cell_type": "code",
   "execution_count": 53,
   "metadata": {},
   "outputs": [
    {
     "name": "stdout",
     "output_type": "stream",
     "text": [
      "<class 'dict'>\n",
      "hi = hello\n",
      "bye = bye bye\n"
     ]
    }
   ],
   "source": [
    "d = {\n",
    "    'hi':'hello',\n",
    "    'bye':'bye bye'\n",
    "}\n",
    "info(**d)"
   ]
  },
  {
   "cell_type": "code",
   "execution_count": 54,
   "metadata": {},
   "outputs": [
    {
     "name": "stdout",
     "output_type": "stream",
     "text": [
      "Enter a no to calculte factorial : 567\n",
      "Time Taken =  0.0\n"
     ]
    }
   ],
   "source": [
    "#recursion\n",
    "#Factorial\n",
    "import time\n",
    "num = int(input(\"Enter a no to calculte factorial : \"))\n",
    "c = time.time()\n",
    "s = 1\n",
    "for var in range(1,num+1):\n",
    "    s = s * var\n",
    "n = time.time()\n",
    "#print(s)\n",
    "print(\"Time Taken = \",n-c)"
   ]
  },
  {
   "cell_type": "code",
   "execution_count": null,
   "metadata": {
    "collapsed": true
   },
   "outputs": [],
   "source": [
    "import sys\n",
    "sys.setrecursionlimit(99999)\n",
    "def fact(num):\n",
    "    if num == 1 :\n",
    "        return 1\n",
    "    return num*fact(num-1)\n",
    "c = time.time()\n",
    "r = fact(29999)\n",
    "n = time.time()\n",
    "print(\"Time Taken : \",n-c)"
   ]
  },
  {
   "cell_type": "code",
   "execution_count": 4,
   "metadata": {},
   "outputs": [
    {
     "name": "stdout",
     "output_type": "stream",
     "text": [
      "Before Function Calling value of x =  10\n",
      "In Function Value of x =  15\n",
      "After function calling value of x =  10\n"
     ]
    }
   ],
   "source": [
    "x = 10\n",
    "def change():\n",
    "    x = 10\n",
    "    x = x + 5\n",
    "    print(\"In Function Value of x = \",x)\n",
    "print(\"Before Function Calling value of x = \",x)\n",
    "change()\n",
    "print(\"After function calling value of x = \",x)"
   ]
  },
  {
   "cell_type": "code",
   "execution_count": 5,
   "metadata": {},
   "outputs": [
    {
     "name": "stdout",
     "output_type": "stream",
     "text": [
      "Before Function Calling value of x =  10\n",
      "In Function Value of x =  15\n",
      "After function calling value of x =  15\n"
     ]
    }
   ],
   "source": [
    "x = 10\n",
    "def change():\n",
    "    global x\n",
    "    x = x + 5\n",
    "    print(\"In Function Value of x = \",x)\n",
    "print(\"Before Function Calling value of x = \",x)\n",
    "change()\n",
    "print(\"After function calling value of x = \",x)"
   ]
  },
  {
   "cell_type": "code",
   "execution_count": null,
   "metadata": {
    "collapsed": true
   },
   "outputs": [],
   "source": []
  }
 ],
 "metadata": {
  "kernelspec": {
   "display_name": "Python 3",
   "language": "python",
   "name": "python3"
  },
  "language_info": {
   "codemirror_mode": {
    "name": "ipython",
    "version": 3
   },
   "file_extension": ".py",
   "mimetype": "text/x-python",
   "name": "python",
   "nbconvert_exporter": "python",
   "pygments_lexer": "ipython3",
   "version": "3.6.3"
  }
 },
 "nbformat": 4,
 "nbformat_minor": 2
}
