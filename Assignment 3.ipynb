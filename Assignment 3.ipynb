{
 "cells": [
  {
   "cell_type": "code",
   "execution_count": 1,
   "metadata": {},
   "outputs": [
    {
     "name": "stdout",
     "output_type": "stream",
     "text": [
      "Hello World!\n"
     ]
    }
   ],
   "source": [
    "#Python Program to Print Hello World!\n",
    "\n",
    "print(\"Hello World!\")"
   ]
  },
  {
   "cell_type": "code",
   "execution_count": 12,
   "metadata": {},
   "outputs": [
    {
     "name": "stdout",
     "output_type": "stream",
     "text": [
      "Enter a number to add = 3\n",
      "Enter a number to add with = 4\n",
      "3 + 4 = 7\n"
     ]
    }
   ],
   "source": [
    "#Python program to Add two numbers\n",
    "\n",
    "x = int(input(\"Enter a number to add = \"))\n",
    "y = int(input(\"Enter a number to add with = \"))\n",
    "print(\"{} + {} = {}\".format(x,y,x+y))"
   ]
  },
  {
   "cell_type": "code",
   "execution_count": 9,
   "metadata": {},
   "outputs": [
    {
     "name": "stdout",
     "output_type": "stream",
     "text": [
      "Enter a number of whose sqaure root you want to calculate = 465\n",
      "Squareroot of 465.0 = 21.563858652847824\n"
     ]
    }
   ],
   "source": [
    "#Python Program to Find the Square Root\n",
    "\n",
    "x = float(input(\"Enter a number of whose sqaure root you want to calculate = \"))\n",
    "sqrt = x ** 0.5\n",
    "print(\"Squareroot of {} = {}\".format(x,sqrt))"
   ]
  },
  {
   "cell_type": "code",
   "execution_count": 10,
   "metadata": {},
   "outputs": [
    {
     "name": "stdout",
     "output_type": "stream",
     "text": [
      "Enter any number = 4624\n",
      "Squareroot of 4624.0 = 68.0\n"
     ]
    }
   ],
   "source": [
    "#Python Program to find the Square Root\n",
    "\n",
    "import math\n",
    "x = float(input(\"Enter any number = \"))\n",
    "sqrt = math.sqrt(x)\n",
    "print(\"Squareroot of {} = {}\".format(x,sqrt))"
   ]
  },
  {
   "cell_type": "code",
   "execution_count": 22,
   "metadata": {},
   "outputs": [
    {
     "name": "stdout",
     "output_type": "stream",
     "text": [
      "Enter the height of the triangle = 65\n",
      "Enter the width of the base of the triangle = 7\n",
      "Using formaula = (height x width)/2 we get = \n",
      "=(65x7)/2 \n",
      "=227.5 centimeters square\n"
     ]
    }
   ],
   "source": [
    "#Python program to calculate the area of a triangle\n",
    "\n",
    "h = int(input(\"Enter the height of the triangle = \"))\n",
    "w = int(input(\"Enter the width of the base of the triangle = \"))\n",
    "print(\"Using formaula = (height x width)/2 we get = \\n=({}x{})/2 \\n={} centimeters square\".format(h,w,h*w/2))"
   ]
  },
  {
   "cell_type": "code",
   "execution_count": 35,
   "metadata": {},
   "outputs": [
    {
     "name": "stdout",
     "output_type": "stream",
     "text": [
      "Enter the coefficient of x^2 = 56\n",
      "Enter the coefficicient of x = 345\n",
      "Enter the constant if not enter 0 = 0\n",
      "Values of x are 0.0 and -19320.0\n"
     ]
    }
   ],
   "source": [
    "#Python program to solve quadratic equation\n",
    "\n",
    "a = int(input(\"Enter the coefficient of x^2 = \"))\n",
    "b = int(input(\"Enter the coefficicient of x = \"))\n",
    "c = int(input(\"Enter the constant if not enter 0 = \"))\n",
    "y1 = b ** 2 - 4*a*c\n",
    "y2 = y1 ** 0.5\n",
    "x1 = (-b + y2)/2*a\n",
    "x2 = (-b - y2)/2*a\n",
    "d = print(\"Values of x are {} and {}\".format(x1,x2))"
   ]
  },
  {
   "cell_type": "code",
   "execution_count": 41,
   "metadata": {},
   "outputs": [
    {
     "name": "stdout",
     "output_type": "stream",
     "text": [
      "Enter value of x : 4\n",
      "Enter value of y : 6\n",
      "Value of x is 6 and value of y is 4\n"
     ]
    }
   ],
   "source": [
    "#Python Program to swap two variables\n",
    "\n",
    "x = int(input(\"Enter value of x : \"))\n",
    "y = int(input(\"Enter value of y : \"))\n",
    "x,y = y,x\n",
    "print(\"Value of x is {} and value of y is {}\".format(x,y))"
   ]
  },
  {
   "cell_type": "code",
   "execution_count": 65,
   "metadata": {},
   "outputs": [
    {
     "name": "stdout",
     "output_type": "stream",
     "text": [
      "Random number between 1 to 100 is = 88\n"
     ]
    }
   ],
   "source": [
    "#Python Program to Generate a Random Number\n",
    "\n",
    "from random import randrange\n",
    "while True:\n",
    "    x = randrange(1,100)\n",
    "    print(\"Random number between 1 to 100 is = {}\".format(x))\n",
    "    break"
   ]
  },
  {
   "cell_type": "code",
   "execution_count": 64,
   "metadata": {},
   "outputs": [
    {
     "name": "stdout",
     "output_type": "stream",
     "text": [
      "Enter the distance in Kilometeres = 465\n",
      "Value of 465.0 km in miles is 748.3431\n"
     ]
    }
   ],
   "source": [
    "#Python Program to Convert Kilometers to Miles\n",
    "\n",
    "x = float(input(\"Enter the distance in Kilometeres = \"))\n",
    "m = x * 1.60934\n",
    "print(\"Value of {} km in miles is {}\".format(x,m))"
   ]
  },
  {
   "cell_type": "code",
   "execution_count": 5,
   "metadata": {},
   "outputs": [
    {
     "name": "stdout",
     "output_type": "stream",
     "text": [
      "Enter the Temprature in Celsius = 0\n",
      "Value of 0.0 degrees Celsius in Fehrenhit is 32.0\n"
     ]
    }
   ],
   "source": [
    "#Python Program to Convert Celsius To Fehrenhit\n",
    "\n",
    "c = float(input(\"Enter the Temprature in Celsius = \"))\n",
    "f = (9/3*c)+32\n",
    "print(\"Value of {} degrees Celsius in Fehrenhit is {}\".format(c,f))"
   ]
  },
  {
   "cell_type": "code",
   "execution_count": 13,
   "metadata": {},
   "outputs": [
    {
     "name": "stdout",
     "output_type": "stream",
     "text": [
      "Enter a number to check whether it is positive, negative, or zero = -456\n",
      "Number is Negative\n"
     ]
    }
   ],
   "source": [
    "#Python Program to check if a number is Positive, Negative, or Zero\n",
    "\n",
    "x = int(input(\"Enter a number to check whether it is positive, negative, or zero = \"))\n",
    "if x > 0:\n",
    "    print(\"Number is Positive\")\n",
    "elif x < 0:\n",
    "    print(\"Number is Negative\")\n",
    "else:\n",
    "    print(\"Number is Zero\")"
   ]
  },
  {
   "cell_type": "code",
   "execution_count": 15,
   "metadata": {},
   "outputs": [
    {
     "name": "stdout",
     "output_type": "stream",
     "text": [
      "Enter an year : 2016\n",
      "This is a leap year\n"
     ]
    }
   ],
   "source": [
    "#Python Program to check leap year\n",
    "\n",
    "x = int(input(\"Enter an year : \"))\n",
    "if x % 4 == 0:\n",
    "    print(\"This is a leap year\")\n",
    "else:\n",
    "    print(\"This is not a leap year\")"
   ]
  },
  {
   "cell_type": "code",
   "execution_count": 10,
   "metadata": {},
   "outputs": [
    {
     "name": "stdout",
     "output_type": "stream",
     "text": [
      "Enter the value of X = 354\n",
      "Enter the value of Y = -456\n",
      "Enter the value of Z = 345\n",
      "X = 354 is the Largest\n"
     ]
    }
   ],
   "source": [
    "#Python Program to find the largest number among three numbers\n",
    "\n",
    "x = int(input(\"Enter the value of X = \"))\n",
    "y = int(input(\"Enter the value of Y = \"))\n",
    "z = int(input(\"Enter the value of Z = \"))\n",
    "if x == y and y == z:\n",
    "    print(\"X = Y = Z = {}\".format(x))\n",
    "elif x == y and y != z:\n",
    "    if x > z:\n",
    "        print(\"X = Y = {} are Larger than Z = {}\".format(x,z))\n",
    "    else:\n",
    "        print(\"Z = {} is Larger than X = Y = {}\".format(z,x))\n",
    "elif y == z and z != x:\n",
    "    if y > x:\n",
    "        print(\"Y = Z = {} is Larger than X = {}\".format(y,x))\n",
    "    else:\n",
    "        print(\"X = {} is Larger than Y = Z = {}\".format(x,y))\n",
    "elif x == z and x != y:\n",
    "    if x > y:\n",
    "        print(\"X = Z = {} are Larger than Y = {}\".format(x,y))\n",
    "    else:\n",
    "        print(\"Y = {} is Larger than X = Z = {}\".format(y,x))\n",
    "else:\n",
    "    if x > y and x > z:\n",
    "        print(\"X = {} is the Largest\".format(x))\n",
    "    elif y > x and y > z:\n",
    "        print(\"Y = {} is the Largest\".format(y))\n",
    "    else:\n",
    "        print(\"Z = {} is Largest\".format(z))"
   ]
  },
  {
   "cell_type": "code",
   "execution_count": 36,
   "metadata": {},
   "outputs": [
    {
     "name": "stdout",
     "output_type": "stream",
     "text": [
      "Enter a number to check whether it is prime or not = 498464\n",
      "Number is not prime\n"
     ]
    }
   ],
   "source": [
    "#Python program to check Prime numbers\n",
    "\n",
    "num = int(input(\"Enter a number to check whether it is prime or not = \"))\n",
    "if num > 1:\n",
    "    for i in range(2,num):\n",
    "        if num % i == 0:\n",
    "            print(\"Number is not prime\")\n",
    "            break\n",
    "    else:\n",
    "        print(\"Number is prime\")\n",
    "else:\n",
    "    print(\"Number is not Prime\")"
   ]
  },
  {
   "cell_type": "code",
   "execution_count": 2,
   "metadata": {},
   "outputs": [
    {
     "name": "stdout",
     "output_type": "stream",
     "text": [
      "Enter a number to check whether it is prime or not : 45\n",
      "Number is Not Prime\n"
     ]
    }
   ],
   "source": [
    "#Python program to check Prime Numbers\n",
    "\n",
    "num = int(input(\"Enter a number to check whether it is prime or not : \"))\n",
    "if num <= 1:\n",
    "    print(\"Number is Not Prime\")\n",
    "    exit(0)\n",
    "elif num <= 3:\n",
    "    print(\"Number is Prime\")\n",
    "    exit(0)\n",
    "check = 2\n",
    "import math\n",
    "sq = math.sqrt(num)\n",
    "sq = int(sq) + 1\n",
    "while check <= sq:\n",
    "    k = num % check\n",
    "    if k == 0:\n",
    "        print(\"Number is Not Prime\")\n",
    "        break\n",
    "    elif check == sq:\n",
    "        print(\"Number is Prime\")\n",
    "    check = check + 1"
   ]
  },
  {
   "cell_type": "code",
   "execution_count": 3,
   "metadata": {},
   "outputs": [
    {
     "name": "stdout",
     "output_type": "stream",
     "text": [
      "Enter the starting point : 2\n",
      "Enter the ending point : 869\n",
      "2\t3\t3\t5\t7\t11\t13\t17\t19\t23\t29\t31\t37\t41\t43\t47\t53\t59\t61\t67\t71\t73\t79\t83\t89\t97\t101\t103\t107\t109\t113\t127\t131\t137\t139\t149\t151\t157\t163\t167\t173\t179\t181\t191\t193\t197\t199\t211\t223\t227\t229\t233\t239\t241\t251\t257\t263\t269\t271\t277\t281\t283\t293\t307\t311\t313\t317\t331\t337\t347\t349\t353\t359\t367\t373\t379\t383\t389\t397\t401\t409\t419\t421\t431\t433\t439\t443\t449\t457\t461\t463\t467\t479\t487\t491\t499\t503\t509\t521\t523\t541\t547\t557\t563\t569\t571\t577\t587\t593\t599\t601\t607\t613\t617\t619\t631\t641\t643\t647\t653\t659\t661\t673\t677\t683\t691\t701\t709\t719\t727\t733\t739\t743\t751\t757\t761\t769\t773\t787\t797\t809\t811\t821\t823\t827\t829\t839\t853\t857\t859\t863\t"
     ]
    }
   ],
   "source": [
    "#Python Program to Print all Prime Numbers in an intrval\n",
    "\n",
    "s = int(input(\"Enter the starting point : \"))\n",
    "e = int(input(\"Enter the ending point : \"))\n",
    "import math\n",
    "while s <= e:\n",
    "    num = s\n",
    "    if num <= 1:\n",
    "        exit(0)\n",
    "    elif num <= 3:\n",
    "        print(num,end='\\t')\n",
    "        exit(0)\n",
    "    check = 2\n",
    "    sq = math.sqrt(num)\n",
    "    sq = int(sq) + 1\n",
    "    while check <= sq:\n",
    "        k = num % check\n",
    "        if k == 0:\n",
    "            break\n",
    "        elif check == sq:\n",
    "            print(num,end='\\t')\n",
    "        check = check + 1\n",
    "    s = s + 1"
   ]
  },
  {
   "cell_type": "code",
   "execution_count": 4,
   "metadata": {},
   "outputs": [
    {
     "name": "stdout",
     "output_type": "stream",
     "text": [
      "Enter a number to check whether it is prime or not = 5\n",
      "Factorial of 5 = 120\n"
     ]
    }
   ],
   "source": [
    "#Python Program to Find the Factorial of a Number\n",
    "\n",
    "x = int(input(\"Enter a number to check whether it is prime or not = \"))\n",
    "fact = 1\n",
    "i = 1\n",
    "while i <= x:\n",
    "    fact = fact * i\n",
    "    i = i + 1\n",
    "print(\"Factorial of {} = {}\".format(x,fact))"
   ]
  },
  {
   "cell_type": "code",
   "execution_count": 12,
   "metadata": {},
   "outputs": [
    {
     "name": "stdout",
     "output_type": "stream",
     "text": [
      "Enter a number to check whether it is prime or not = 5\n",
      "20\n",
      "60\n",
      "120\n",
      "120\n",
      "Factorial of 5 = 120\n"
     ]
    }
   ],
   "source": [
    "#Python Program to Find the Factorial of a Number\n",
    "\n",
    "n = int(input(\"Enter a number to check whether it is prime or not = \"))\n",
    "x = n\n",
    "i = n - 1\n",
    "while i > 0:\n",
    "    n = n * i\n",
    "    i = i - 1\n",
    "    print(n)\n",
    "print(\"Factorial of {} = {}\".format(x,n))"
   ]
  },
  {
   "cell_type": "code",
   "execution_count": 13,
   "metadata": {},
   "outputs": [
    {
     "name": "stdout",
     "output_type": "stream",
     "text": [
      "Enter th number whose table you want to calculate = 5\n",
      "    5\tX    1\t=    5\n",
      "    5\tX    2\t=   10\n",
      "    5\tX    3\t=   15\n",
      "    5\tX    4\t=   20\n",
      "    5\tX    5\t=   25\n",
      "    5\tX    6\t=   30\n",
      "    5\tX    7\t=   35\n",
      "    5\tX    8\t=   40\n",
      "    5\tX    9\t=   45\n",
      "    5\tX   10\t=   50\n"
     ]
    }
   ],
   "source": [
    "#Python Program To Display the multiplication Table\n",
    "\n",
    "x = int(input(\"Enter th number whose table you want to calculate = \"))\n",
    "for i in range(1,11):\n",
    "    print(\"{:5}\\tX{:5}\\t={:5}\".format(x,i,x*i))"
   ]
  },
  {
   "cell_type": "code",
   "execution_count": 1,
   "metadata": {},
   "outputs": [
    {
     "name": "stdout",
     "output_type": "stream",
     "text": [
      "Enter the starting point = 0\n",
      "Enter the secong number = 1\n",
      "Enter the number upto which you want the series = 9\n",
      "0 1 1 2 3 5 8 13 21 "
     ]
    }
   ],
   "source": [
    "#Python Program Fabonacci Series\n",
    "\n",
    "a = int(input(\"Enter the first number = \"))\n",
    "b = int(input(\"Enter the second number = \"))\n",
    "n = int(input(\"Enter the number upto which you want the series = \"))\n",
    "print(a, b,end=' ')\n",
    "while n - 2:\n",
    "    c = a + b\n",
    "    a = b\n",
    "    b = c\n",
    "    print(c,end=' ')\n",
    "    n = n - 1"
   ]
  },
  {
   "cell_type": "code",
   "execution_count": null,
   "metadata": {
    "collapsed": true
   },
   "outputs": [],
   "source": [
    "#Python Program to Check Armstrong Number\n",
    "\n",
    "n = int(input(\"Enter the ending of the series = \"))\n"
   ]
  },
  {
   "cell_type": "code",
   "execution_count": 2,
   "metadata": {},
   "outputs": [
    {
     "name": "stdout",
     "output_type": "stream",
     "text": [
      "Enter the range upto which you want to add the natural numbers = 9\n",
      "The sum is = 0\n",
      "The sum is = 2\n",
      "The sum is = 4\n",
      "The sum is = 6\n",
      "The sum is = 8\n",
      "The sum is = 10\n",
      "The sum is = 12\n",
      "The sum is = 14\n",
      "The sum is = 16\n"
     ]
    }
   ],
   "source": [
    "#Python Program to find the sum of natural numbers\n",
    "\n",
    "r = int(input(\"Enter the range upto which you want to add the natural numbers = \"))\n",
    "for i in range(0,r):\n",
    "    x = i+\n",
    "    print(\"The sum is = {}\".format(x))"
   ]
  },
  {
   "cell_type": "code",
   "execution_count": null,
   "metadata": {
    "collapsed": true
   },
   "outputs": [],
   "source": []
  }
 ],
 "metadata": {
  "kernelspec": {
   "display_name": "Python 3",
   "language": "python",
   "name": "python3"
  },
  "language_info": {
   "codemirror_mode": {
    "name": "ipython",
    "version": 3
   },
   "file_extension": ".py",
   "mimetype": "text/x-python",
   "name": "python",
   "nbconvert_exporter": "python",
   "pygments_lexer": "ipython3",
   "version": "3.6.3"
  }
 },
 "nbformat": 4,
 "nbformat_minor": 2
}
