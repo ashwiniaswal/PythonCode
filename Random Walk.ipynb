{
 "cells": [
  {
   "cell_type": "code",
   "execution_count": 9,
   "metadata": {},
   "outputs": [
    {
     "name": "stdout",
     "output_type": "stream",
     "text": [
      "Enter the number of steps you can walk = 6\n",
      "\n",
      "\n",
      " NORTH SOUTH EAST WEST\n",
      "Enter the initials of the direction you want move in : w\n",
      "Enter the initials of the direction you want move in : w\n",
      "Enter the initials of the direction you want move in : w\n",
      "Enter the initials of the direction you want move in : e\n",
      "Enter the initials of the direction you want move in : s\n",
      "Enter the initials of the direction you want move in : s\n",
      "\n",
      "-2 units in x axis and -2 units in y axis\n",
      "\n",
      "\n",
      "4 units distance will be travelled in 6 steps from the starting point\n"
     ]
    }
   ],
   "source": [
    "import math\n",
    "directions = ['NORTH', 'SOUTH', 'EAST', 'WEST']\n",
    "s = int(input(\"Enter the number of steps you can walk = \"))\n",
    "print(\"\\n\\n\",*directions)\n",
    "x = 0\n",
    "y = 0\n",
    "for i in range(s):\n",
    "    d = input(\"Enter the initials of the direction you want move in : \").strip().upper()\n",
    "    if d == 'E':\n",
    "        x = x + 1\n",
    "    elif d == 'W':\n",
    "        x = x - 1\n",
    "    elif d == 'N':\n",
    "        y = y + 1\n",
    "    elif d == 'S':\n",
    "        y = y - 1\n",
    "    else:\n",
    "        print(\"THE DIRECTION ENTERED MUST BE WRONG!\")\n",
    "distance = abs(x) + abs(y)\n",
    "print(\"\\n{} units in x axis and {} units in y axis\".format(x,y))\n",
    "print(\"\\n\\n{} units distance will be travelled in {} steps from the starting point\".format(distance,s))"
   ]
  },
  {
   "cell_type": "code",
   "execution_count": 13,
   "metadata": {},
   "outputs": [
    {
     "name": "stdout",
     "output_type": "stream",
     "text": [
      "Enter the number of steps you want to move = 7\n",
      "\n",
      "-1 units in x axis and -2 units in y axis\n",
      "\n",
      "\n",
      "3 units distance will be travelled in 7 steps from the starting point\n"
     ]
    }
   ],
   "source": [
    "import math\n",
    "from random import choice\n",
    "s = int(input(\"Enter the number of steps you want to move = \"))\n",
    "direction = ['NORTH', 'SOUTH', 'EAST', 'WEST']\n",
    "x = 0\n",
    "y = 0\n",
    "for i in range(s):\n",
    "    d = choice(directions)\n",
    "    if d == 'EAST':\n",
    "        x = x + 1\n",
    "    elif d == 'WEST':\n",
    "        x = x - 1\n",
    "    elif d == 'NORTH':\n",
    "        y = y + 1\n",
    "    elif d == 'SOUTH':\n",
    "        y = y - 1\n",
    "    else:\n",
    "        print(\"DIRECTION MUST BE WRONG!\")\n",
    "distance = abs(x) + abs(y)\n",
    "print(\"\\n{} units in x axis and {} units in y axis\".format(x,y))\n",
    "print(\"\\n\\n{} units distance will be travelled in {} steps from the starting point\".format(distance,s))        "
   ]
  }
 ],
 "metadata": {
  "kernelspec": {
   "display_name": "Python 3",
   "language": "python",
   "name": "python3"
  },
  "language_info": {
   "codemirror_mode": {
    "name": "ipython",
    "version": 3
   },
   "file_extension": ".py",
   "mimetype": "text/x-python",
   "name": "python",
   "nbconvert_exporter": "python",
   "pygments_lexer": "ipython3",
   "version": "3.6.3"
  }
 },
 "nbformat": 4,
 "nbformat_minor": 2
}
