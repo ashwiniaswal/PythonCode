{
 "cells": [
  {
   "cell_type": "markdown",
   "metadata": {},
   "source": [
    "# Loops In Python"
   ]
  },
  {
   "cell_type": "raw",
   "metadata": {},
   "source": [
    "While\n",
    "For"
   ]
  },
  {
   "cell_type": "markdown",
   "metadata": {},
   "source": [
    "# While Loop"
   ]
  },
  {
   "cell_type": "code",
   "execution_count": 1,
   "metadata": {
    "collapsed": true
   },
   "outputs": [],
   "source": [
    "while False:\n",
    "    print(\"Hello World\")"
   ]
  },
  {
   "cell_type": "code",
   "execution_count": 2,
   "metadata": {},
   "outputs": [
    {
     "name": "stdout",
     "output_type": "stream",
     "text": [
      "Hello World\n",
      "Hello World\n",
      "Hello World\n",
      "Hello World\n",
      "Hello World\n",
      "Hello World\n",
      "Hello World\n",
      "Hello World\n",
      "Hello World\n",
      "Hello World\n",
      "Python is Awesome\n"
     ]
    }
   ],
   "source": [
    "c = 1\n",
    "while c <= 10:\n",
    "    print(\"Hello World\")\n",
    "    c = c + 1\n",
    "print(\"Python is Awesome\")"
   ]
  },
  {
   "cell_type": "code",
   "execution_count": 38,
   "metadata": {},
   "outputs": [
    {
     "name": "stdout",
     "output_type": "stream",
     "text": [
      "Hello World Hello World Hello World Hello World Hello World Hello World Hello World Hello World Hello World Hello World \n",
      "Python is Awesome\n"
     ]
    }
   ],
   "source": [
    "#variable from list\n",
    "for var in ['Hello World ']:\n",
    "    p = var*10 \n",
    "    print(p)\n",
    "print(\"Python is Awesome\")"
   ]
  },
  {
   "cell_type": "code",
   "execution_count": 39,
   "metadata": {},
   "outputs": [
    {
     "name": "stdout",
     "output_type": "stream",
     "text": [
      "HHHHHHHHHH\n",
      "eeeeeeeeee\n",
      "llllllllll\n",
      "llllllllll\n",
      "oooooooooo\n",
      "          \n",
      "WWWWWWWWWW\n",
      "oooooooooo\n",
      "rrrrrrrrrr\n",
      "llllllllll\n",
      "dddddddddd\n",
      "          \n",
      "Python is Awesome\n"
     ]
    }
   ],
   "source": [
    "#variable from tuple\n",
    "for var in ('Hello World '):\n",
    "    p = var*10 \n",
    "    print(p)\n",
    "print(\"Python is Awesome\")"
   ]
  },
  {
   "cell_type": "code",
   "execution_count": 5,
   "metadata": {},
   "outputs": [
    {
     "name": "stdout",
     "output_type": "stream",
     "text": [
      "1, 2, 3, 4, 5, 6, 7, 8, 9, 10, 11, 12, 13, 14, 15, 16, 17, 18, 19, 20, 21, 22, 23, 24, 25, 26, 27, 28, 29, 30, 31, 32, 33, 34, 35, 36, 37, 38, 39, 40, 41, 42, 43, 44, 45, 46, 47, 48, 49, 50, 51, 52, 53, 54, 55, 56, 57, 58, 59, 60, 61, 62, 63, 64, 65, 66, 67, 68, 69, 70, 71, 72, 73, 74, 75, 76, 77, 78, 79, 80, 81, 82, 83, 84, 85, 86, 87, 88, 89, 90, 91, 92, 93, 94, 95, 96, 97, 98, 99, 100, "
     ]
    }
   ],
   "source": [
    "c = 1\n",
    "while c <= 100:\n",
    "    print(c,end=', ')\n",
    "    c = c + 1"
   ]
  },
  {
   "cell_type": "code",
   "execution_count": 40,
   "metadata": {},
   "outputs": [
    {
     "name": "stdout",
     "output_type": "stream",
     "text": [
      "1, 2, 3, 4, 5, 6, 7, 8, 9, 10, 11, 12, 13, 14, 15, 16, 17, 18, 19, 20, 21, 22, 23, 24, 25, 26, 27, 28, 29, 30, 31, 32, 33, 34, 35, 36, 37, 38, 39, 40, 41, 42, 43, 44, 45, 46, 47, 48, 49, 50, 51, 52, 53, 54, 55, 56, 57, 58, 59, 60, 61, 62, 63, 64, 65, 66, 67, 68, 69, 70, 71, 72, 73, 74, 75, 76, 77, 78, 79, 80, 81, 82, 83, 84, 85, 86, 87, 88, 89, 90, 91, 92, 93, 94, 95, 96, 97, 98, 99, 100, "
     ]
    }
   ],
   "source": [
    "for var in range(1,101):\n",
    "    print(var,end=', ')"
   ]
  },
  {
   "cell_type": "code",
   "execution_count": 6,
   "metadata": {},
   "outputs": [
    {
     "name": "stdout",
     "output_type": "stream",
     "text": [
      "100, 99, 98, 97, 96, 95, 94, 93, 92, 91, 90, 89, 88, 87, 86, 85, 84, 83, 82, 81, 80, 79, 78, 77, 76, 75, 74, 73, 72, 71, 70, 69, 68, 67, 66, 65, 64, 63, 62, 61, 60, 59, 58, 57, 56, 55, 54, 53, 52, 51, 50, 49, 48, 47, 46, 45, 44, 43, 42, 41, 40, 39, 38, 37, 36, 35, 34, 33, 32, 31, 30, 29, 28, 27, 26, 25, 24, 23, 22, 21, 20, 19, 18, 17, 16, 15, 14, 13, 12, 11, 10, 9, 8, 7, 6, 5, 4, 3, 2, 1, "
     ]
    }
   ],
   "source": [
    "c =100\n",
    "while c >= 1:\n",
    "    print(c,end=', ')\n",
    "    c = c - 1"
   ]
  },
  {
   "cell_type": "code",
   "execution_count": 48,
   "metadata": {},
   "outputs": [
    {
     "name": "stdout",
     "output_type": "stream",
     "text": [
      "100, 99, 98, 97, 96, 95, 94, 93, 92, 91, 90, 89, 88, 87, 86, 85, 84, 83, 82, 81, 80, 79, 78, 77, 76, 75, 74, 73, 72, 71, 70, 69, 68, 67, 66, 65, 64, 63, 62, 61, 60, 59, 58, 57, 56, 55, 54, 53, 52, 51, 50, 49, 48, 47, 46, 45, 44, 43, 42, 41, 40, 39, 38, 37, 36, 35, 34, 33, 32, 31, 30, 29, 28, 27, 26, 25, 24, 23, 22, 21, 20, 19, 18, 17, 16, 15, 14, 13, 12, 11, 10, 9, 8, 7, 6, 5, 4, 3, 2, 1, "
     ]
    }
   ],
   "source": [
    "for var in range(100,0,-1):\n",
    "    print(var,end=', ')"
   ]
  },
  {
   "cell_type": "code",
   "execution_count": 44,
   "metadata": {},
   "outputs": [
    {
     "name": "stdout",
     "output_type": "stream",
     "text": [
      "Enter a number : 5\n",
      "    5\tx    1\t=    5\n",
      "    5\tx    2\t=   10\n",
      "    5\tx    3\t=   15\n",
      "    5\tx    4\t=   20\n",
      "    5\tx    5\t=   25\n",
      "    5\tx    6\t=   30\n",
      "    5\tx    7\t=   35\n",
      "    5\tx    8\t=   40\n",
      "    5\tx    9\t=   45\n",
      "    5\tx   10\t=   50\n"
     ]
    }
   ],
   "source": [
    "num = int(input(\"Enter a number : \"))\n",
    "c = 1\n",
    "while c <= 10:\n",
    "    print(\"{:5}\\tx{:5}\\t={:5}\".format(num,c,num*c))\n",
    "    c = c + 1"
   ]
  },
  {
   "cell_type": "code",
   "execution_count": 52,
   "metadata": {},
   "outputs": [
    {
     "name": "stdout",
     "output_type": "stream",
     "text": [
      "Enter a number to find its table = 5\n",
      "    5\tx    1\t=    5\n",
      "    5\tx    2\t=   10\n",
      "    5\tx    3\t=   15\n",
      "    5\tx    4\t=   20\n",
      "    5\tx    5\t=   25\n",
      "    5\tx    6\t=   30\n",
      "    5\tx    7\t=   35\n",
      "    5\tx    8\t=   40\n",
      "    5\tx    9\t=   45\n",
      "    5\tx   10\t=   50\n"
     ]
    }
   ],
   "source": [
    "#using for loop\n",
    "num = int(input(\"Enter a number to find its table = \"))\n",
    "for var in range(1,11):\n",
    "    print(\"{:5}\\tx{:5}\\t={:5}\".format(num,var,num*var))"
   ]
  },
  {
   "cell_type": "code",
   "execution_count": 10,
   "metadata": {},
   "outputs": [
    {
     "name": "stdout",
     "output_type": "stream",
     "text": [
      "Enter a Number : 7\n",
      "    7\tx    1\t=    7\n",
      "    7\tx    2\t=   14\n",
      "    7\tx    3\t=   21\n",
      "    7\tx    4\t=   28\n",
      "    7\tx    5\t=   35\n",
      "    7\tx    6\t=   42\n",
      "    7\tx    7\t=   49\n",
      "    7\tx    8\t=   56\n",
      "    7\tx    9\t=   63\n",
      "    7\tx   10\t=   70\n"
     ]
    }
   ],
   "source": [
    "s = 0\n",
    "num = int(input(\"Enter a Number : \"))\n",
    "c = 1\n",
    "while c <= 10:\n",
    "    s = s + num\n",
    "    print(\"{:5}\\tx{:5}\\t={:5}\".format(num,c,s))\n",
    "    c = c + 1"
   ]
  },
  {
   "cell_type": "code",
   "execution_count": 56,
   "metadata": {},
   "outputs": [
    {
     "name": "stdout",
     "output_type": "stream",
     "text": [
      "Enter a number to find its table = 7\n",
      "    7\tx    1\t=    8\n",
      "    7\tx    2\t=    9\n",
      "    7\tx    3\t=   10\n",
      "    7\tx    4\t=   11\n",
      "    7\tx    5\t=   12\n",
      "    7\tx    6\t=   13\n",
      "    7\tx    7\t=   14\n",
      "    7\tx    8\t=   15\n",
      "    7\tx    9\t=   16\n",
      "    7\tx   10\t=   17\n"
     ]
    }
   ],
   "source": [
    "#using for loop\n",
    "num = int(input(\"Enter a number to find its table = \"))\n",
    "for var in range(1,11):\n",
    "    print(\"{:5}\\tx{:5}\\t={:5}\".format(num,var,var+num))"
   ]
  },
  {
   "cell_type": "code",
   "execution_count": 12,
   "metadata": {},
   "outputs": [
    {
     "name": "stdout",
     "output_type": "stream",
     "text": [
      "Player1 : ········\n",
      "Player2 : ········\n",
      "Player1 is the Winner\n",
      "Do you want to contiue (y/n) : y\n",
      "Player1 : ········\n",
      "Player2 : ········\n",
      "Player2 is the Winner\n",
      "Do you want to contiue (y/n) : y\n",
      "Player1 : ········\n",
      "Player2 : ········\n",
      "Player2 is the Winner\n",
      "Do you want to contiue (y/n) : n\n",
      "As your wish\n"
     ]
    }
   ],
   "source": [
    "p1 = [('r','s'),('p','r'),('s','p')]\n",
    "from getpass import getpass\n",
    "while True:\n",
    "    ch1 = getpass(\"Player1 : \")\n",
    "    ch2 = getpass(\"Player2 : \")\n",
    "    if ch1 == ch2:\n",
    "        print(\"Match Tie\")\n",
    "    elif (ch1,ch2) in p1:\n",
    "        print(\"Player1 is the Winner\")\n",
    "    else:\n",
    "        print(\"Player2 is the Winner\")\n",
    "    ch = input(\"Do you want to contiue (y/n) : \").strip().lower()\n",
    "    if ch == 'y' or ch == 'yes' :\n",
    "        continue\n",
    "    else:\n",
    "        print(\"As your wish\")\n",
    "        break"
   ]
  },
  {
   "cell_type": "code",
   "execution_count": null,
   "metadata": {
    "collapsed": true
   },
   "outputs": [],
   "source": [
    "p1 = [('r','s'),('p','r'),('s','p')]\n",
    "from getpass import getpass\n",
    "for var in p1:\n",
    "    ch1 = getpass(\"Player1 : \")\n",
    "    ch2 = getpass(\"Player2 : \")\n",
    "    if ch1 == ch2:\n",
    "        print(\"Match Tie\")\n",
    "    elif (ch1,ch2) in p1:\n",
    "        print(\"Player1 is the Winner\")\n",
    "    else:\n",
    "        print(\"Player2 is the Winner\")\n",
    "    ch = input(\"Do you want to contiue (y/n) : \").strip().lower()\n",
    "    if ch == 'y' or ch == 'yes' :\n",
    "        continue\n",
    "    else:\n",
    "        print(\"As your wish\")\n",
    "        break"
   ]
  },
  {
   "cell_type": "code",
   "execution_count": 17,
   "metadata": {},
   "outputs": [
    {
     "name": "stdout",
     "output_type": "stream",
     "text": [
      "Player2 : s\n",
      "Computer Choice was :  p\n",
      "Player Choice was :  s\n",
      "Player2 is the Winner\n",
      "Do want to continue (y/n) : y\n",
      "Player2 : r\n",
      "Computer Choice was :  p\n",
      "Player Choice was :  r\n",
      "Player1 is the Winner\n",
      "Do want to continue (y/n) : n\n",
      "As your wish\n"
     ]
    }
   ],
   "source": [
    "p1 = [('r','s'),('p','r'),('s','p')]\n",
    "from random import choice\n",
    "while True:\n",
    "    ch1 = choice(['r','p','s'])\n",
    "    ch2 = input(\"Player2 : \")\n",
    "    if ch1 == ch2:\n",
    "        print(\"Match Tie\")\n",
    "    elif (ch1,ch2) in p1:\n",
    "            print(\"Computer Choice was : \",ch1)\n",
    "            print(\"Player Choice was : \",ch2)\n",
    "            print(\"Player1 is the Winner\")\n",
    "    else:\n",
    "            print(\"Computer Choice was : \",ch1)\n",
    "            print(\"Player Choice was : \",ch2)\n",
    "            print(\"Player2 is the Winner\")\n",
    "            \n",
    "    ch = input(\"Do want to continue (y/n) : \").strip().lower()\n",
    "    if ch == 'y' or ch == 'yes':\n",
    "        continue\n",
    "    else:\n",
    "        print(\"As your wish\")\n",
    "        break"
   ]
  },
  {
   "cell_type": "code",
   "execution_count": 19,
   "metadata": {},
   "outputs": [
    {
     "name": "stdout",
     "output_type": "stream",
     "text": [
      "1\n",
      "2\n",
      "3\n",
      "4\n",
      "5\n",
      "Enter yes to continue : y\n",
      "1\n",
      "2\n",
      "3\n",
      "4\n",
      "5\n",
      "Enter yes to continue : y\n",
      "1\n",
      "2\n",
      "3\n",
      "4\n",
      "5\n",
      "Enter yes to continue : no\n",
      "As your wish\n"
     ]
    }
   ],
   "source": [
    "from random import randrange\n",
    "while True:\n",
    "    c = 1\n",
    "    while c <= 5:\n",
    "        print(c)\n",
    "        c = c + 1\n",
    "    ch = input(\"Enter yes to continue : \").strip().lower()\n",
    "    if ch == 'y' or ch == 'yes':\n",
    "        continue\n",
    "    else:\n",
    "        print(\"As your wish\")\n",
    "        break"
   ]
  },
  {
   "cell_type": "code",
   "execution_count": 2,
   "metadata": {},
   "outputs": [
    {
     "name": "stdout",
     "output_type": "stream",
     "text": [
      "Your Guess(1,50) : 35\n",
      "Be Big Think Bigger\n",
      "Your Guess(1,50) : 45\n",
      "Be in Limits Think Lower\n",
      "Your Guess(1,50) : 37\n",
      "Be Big Think Bigger\n",
      "Your Guess(1,50) : 40\n",
      "Be in Limits Think Lower\n",
      "Your Guess(1,50) : 39\n",
      "Be in Limits Think Lower\n",
      "You such a looser\n",
      "The correct answer is :  38\n",
      "Do you want to play again (y/n) : n\n",
      "As your wish\n"
     ]
    }
   ],
   "source": [
    "from random import randrange\n",
    "while True:\n",
    "    c = 1\n",
    "    com_guess = randrange(1,50)\n",
    "    while c <= 5:\n",
    "        user_guess = int(input(\"Your Guess(1,50) : \"))\n",
    "        if user_guess > 50 or user_guess < 1:\n",
    "            print(\"You Idiot only 1-50\")\n",
    "            continue\n",
    "        else:\n",
    "            if user_guess < com_guess:\n",
    "                print(\"Be Big Think Bigger\")\n",
    "            elif user_guess > com_guess:\n",
    "                print(\"Be in Limits Think Lower\")\n",
    "            else:\n",
    "                print(\"Continue Guess : \",com_guess)\n",
    "                print(\"You have won the game : \")\n",
    "                break\n",
    "        if c == 5:\n",
    "            print(\"You such a looser\")\n",
    "            print(\"The correct answer was : \",com_guess)\n",
    "        c = c + 1\n",
    "        \n",
    "    ch = input(\"Do you want to play again (y/n) : \").strip().lower()\n",
    "    if ch == 'y' or ch == 'yes':\n",
    "        continue\n",
    "    else:\n",
    "        print(\"As your wish\")\n",
    "        break"
   ]
  },
  {
   "cell_type": "code",
   "execution_count": 2,
   "metadata": {},
   "outputs": [
    {
     "name": "stdout",
     "output_type": "stream",
     "text": [
      "Enter a number to find its squareroot : 121\n"
     ]
    },
    {
     "data": {
      "text/plain": [
       "11.0"
      ]
     },
     "execution_count": 2,
     "metadata": {},
     "output_type": "execute_result"
    }
   ],
   "source": [
    "n = int(input(\"Enter a number to find its squareroot : \"))\n",
    "import math\n",
    "math.sqrt(n)"
   ]
  },
  {
   "cell_type": "code",
   "execution_count": 1,
   "metadata": {},
   "outputs": [
    {
     "name": "stdout",
     "output_type": "stream",
     "text": [
      "Enter total number : 3\n",
      "Enter number 1: 34\n",
      "Enter number 2: 23\n",
      "Enter number 3: 56\n",
      "[34, 23, 56]\n"
     ]
    }
   ],
   "source": [
    "l = []\n",
    "c = 1\n",
    "num = int(input(\"Enter total number : \"))\n",
    "while c <= num:\n",
    "    x = int(input(\"Enter number {}: \".format(c)))\n",
    "    l.append(x)\n",
    "    c = c + 1\n",
    "print(l)"
   ]
  },
  {
   "cell_type": "code",
   "execution_count": 5,
   "metadata": {},
   "outputs": [
    {
     "name": "stdout",
     "output_type": "stream",
     "text": [
      "Enter starting point : 0\n",
      "Enter the ending point : 100\n",
      "0\t1\t3\t5\t7\t11\t13\t17\t19\t23\t29\t31\t37\t41\t43\t47\t53\t59\t61\t67\t71\t73\t79\t83\t89\t97\t\n",
      "Total Prime :  26\n"
     ]
    }
   ],
   "source": [
    "import math\n",
    "s = int(input(\"Enter starting point : \"))\n",
    "e = int(input(\"Enter the ending point : \"))\n",
    "total_prime = 0\n",
    "while s <= e:\n",
    "    num = s\n",
    "    end = int(math.sqrt(num)) + 1\n",
    "    start = 2\n",
    "    while start <= end:\n",
    "        if num % start == 0:\n",
    "            break\n",
    "        start = start + 1\n",
    "    else:\n",
    "        total_prime = total_prime + 1\n",
    "        print(num,end='\\t')\n",
    "    s = s + 1\n",
    "print(\"\\nTotal Prime : \",total_prime)"
   ]
  },
  {
   "cell_type": "code",
   "execution_count": null,
   "metadata": {
    "collapsed": true
   },
   "outputs": [],
   "source": [
    "import math\n",
    "s = int(input(\"Enter starting point : \"))\n",
    "e = int(input(\"Enter ending point : \"))\n",
    "total_prime = 0\n",
    "for k in range(s,e+1):\n",
    "    num = k\n",
    "    end = int(math.sqrt(num)) + 1\n",
    "    start = 2\n",
    "    for t in range(start,end+1):\n",
    "        if num % t == 0:\n",
    "            break\n",
    "    else:\n",
    "        total_prime = total_prime + 1\n",
    "        print(num,end='\\t')\n",
    "print(\"\\nTotal \")"
   ]
  },
  {
   "cell_type": "markdown",
   "metadata": {},
   "source": [
    "# For Loop"
   ]
  },
  {
   "cell_type": "code",
   "execution_count": 3,
   "metadata": {},
   "outputs": [
    {
     "name": "stdout",
     "output_type": "stream",
     "text": [
      "P\n",
      "y\n",
      "t\n",
      "h\n",
      "o\n",
      "n\n"
     ]
    }
   ],
   "source": [
    "l = 'Python'\n",
    "for var in l:\n",
    "    print(var)"
   ]
  },
  {
   "cell_type": "code",
   "execution_count": 5,
   "metadata": {},
   "outputs": [
    {
     "name": "stdout",
     "output_type": "stream",
     "text": [
      "Enter the starting : 4\n",
      "Enter the ending : 8\n",
      "4, 5, 6, 7, 8, "
     ]
    }
   ],
   "source": [
    "s = int(input(\"Enter the starting : \"))\n",
    "e = int(input(\"Enter the ending : \"))\n",
    "for var in range(s,e+1):\n",
    "    print(var,end=', ')"
   ]
  },
  {
   "cell_type": "code",
   "execution_count": 1,
   "metadata": {},
   "outputs": [
    {
     "name": "stdout",
     "output_type": "stream",
     "text": [
      "Enter the starting : 5\n",
      "Enter the ending : 6\n"
     ]
    }
   ],
   "source": [
    "s = int(input(\"Enter the starting : \"))\n",
    "e = int(input(\"Enter the ending : \"))"
   ]
  },
  {
   "cell_type": "code",
   "execution_count": 2,
   "metadata": {},
   "outputs": [
    {
     "name": "stdout",
     "output_type": "stream",
     "text": [
      "1\n",
      "2\n",
      "3\n",
      "4\n",
      "5\n",
      "6\n",
      "7\n",
      "8\n",
      "9\n",
      "1\n",
      "0\n"
     ]
    }
   ],
   "source": [
    "for var in '12345678910':\n",
    "    print(var)"
   ]
  },
  {
   "cell_type": "code",
   "execution_count": 3,
   "metadata": {},
   "outputs": [
    {
     "name": "stdout",
     "output_type": "stream",
     "text": [
      "1\n",
      "2\n",
      "3\n",
      "4\n",
      "5\n",
      "6\n",
      "7\n",
      "8\n",
      "9\n",
      "10\n"
     ]
    }
   ],
   "source": [
    "l = [1,2,3,4,5,6,7,8,9,10]\n",
    "for var in l:\n",
    "    print(var)"
   ]
  },
  {
   "cell_type": "code",
   "execution_count": 4,
   "metadata": {},
   "outputs": [
    {
     "name": "stdout",
     "output_type": "stream",
     "text": [
      "Enter a number for finding its table = 5\n",
      "5\n",
      "10\n",
      "15\n",
      "20\n",
      "25\n",
      "30\n",
      "35\n",
      "40\n",
      "45\n",
      "50\n"
     ]
    }
   ],
   "source": [
    "l = [1,2,3,4,5,6,7,8,9,10]\n",
    "n = int(input(\"Enter a number for finding its table = \"))\n",
    "for var in l:\n",
    "    print(n*var)"
   ]
  },
  {
   "cell_type": "code",
   "execution_count": 5,
   "metadata": {},
   "outputs": [
    {
     "name": "stdout",
     "output_type": "stream",
     "text": [
      "hello\n",
      "hi\n",
      "how\n",
      "are\n",
      "you\n"
     ]
    }
   ],
   "source": [
    "l = [\"hello\", \"hi\", \"how\", \"are\", \"you\"]\n",
    "for var in l:\n",
    "    print(var)"
   ]
  },
  {
   "cell_type": "code",
   "execution_count": 6,
   "metadata": {},
   "outputs": [
    {
     "name": "stdout",
     "output_type": "stream",
     "text": [
      "one = 1\n",
      "two = 2\n",
      "three = 3\n",
      "four = 4\n",
      "five = 5\n"
     ]
    }
   ],
   "source": [
    "d = {\n",
    "    'one':1,\n",
    "    'two':2,\n",
    "    'three':3,\n",
    "    'four':4,\n",
    "    'five':5\n",
    "}\n",
    "for key in d:\n",
    "    print(key, \"=\", d[key])"
   ]
  },
  {
   "cell_type": "code",
   "execution_count": 7,
   "metadata": {},
   "outputs": [
    {
     "name": "stdout",
     "output_type": "stream",
     "text": [
      "hi=hello\n",
      "bye=chalo\n",
      "good=bad\n"
     ]
    }
   ],
   "source": [
    "d = {'hi':'hello','bye':'chalo','good':'bad'}\n",
    "for key,value in d.items():\n",
    "    print(\"{}={}\".format(key,value))"
   ]
  },
  {
   "cell_type": "code",
   "execution_count": 8,
   "metadata": {},
   "outputs": [
    {
     "name": "stdout",
     "output_type": "stream",
     "text": [
      "1 2 3\n",
      "3 4 5\n",
      "7 8 9\n"
     ]
    }
   ],
   "source": [
    "l = [\n",
    "    [1,2,3],\n",
    "    [3,4,5],\n",
    "    [7,8,9]\n",
    "]\n",
    "for one,two,three in l:\n",
    "    print(one,two,three)"
   ]
  },
  {
   "cell_type": "code",
   "execution_count": 9,
   "metadata": {},
   "outputs": [
    {
     "name": "stdout",
     "output_type": "stream",
     "text": [
      "<class 'range'>\n",
      "range(1, 100, 5)\n",
      "1 6 11 16 21 26 31 36 41 46 51 56 61 66 71 76 81 86 91 96\n"
     ]
    }
   ],
   "source": [
    "start = 1\n",
    "end = 100\n",
    "step = 5\n",
    "k = range(start,end,step)\n",
    "print(type(k))\n",
    "print(k)\n",
    "print(*k)"
   ]
  },
  {
   "cell_type": "code",
   "execution_count": 10,
   "metadata": {},
   "outputs": [
    {
     "name": "stdout",
     "output_type": "stream",
     "text": [
      "100 99 98 97 96 95 94 93 92 91 90 89 88 87 86 85 84 83 82 81 80 79 78 77 76 75 74 73 72 71 70 69 68 67 66 65 64 63 62 61 60 59 58 57 56 55 54 53 52 51 50 49 48 47 46 45 44 43 42 41 40 39 38 37 36 35 34 33 32 31 30 29 28 27 26 25 24 23 22 21 20 19 18 17 16 15 14 13 12 11 10 9 8 7 6 5 4 3 2 1\n"
     ]
    }
   ],
   "source": [
    "print(*range(100,0,-1))"
   ]
  },
  {
   "cell_type": "code",
   "execution_count": 11,
   "metadata": {},
   "outputs": [
    {
     "name": "stdout",
     "output_type": "stream",
     "text": [
      "Enter starting point : 1\n",
      "Enter the ending point : 100\n",
      "Enter num : 5\n",
      "1, 2, 3, 4, 6, 7, 8, 9, 11, 12, 13, 14, 16, 17, 18, 19, 21, 22, 23, 24, 26, 27, 28, 29, 31, 32, 33, 34, 36, 37, 38, 39, 41, 42, 43, 44, 46, 47, 48, 49, 51, 52, 53, 54, 56, 57, 58, 59, 61, 62, 63, 64, 66, 67, 68, 69, 71, 72, 73, 74, 76, 77, 78, 79, 81, 82, 83, 84, 86, 87, 88, 89, 91, 92, 93, 94, 96, 97, 98, 99, "
     ]
    }
   ],
   "source": [
    "s = int(input(\"Enter starting point : \"))\n",
    "e = int(input(\"Enter the ending point : \"))\n",
    "num = int(input(\"Enter num : \"))\n",
    "for var in range(s,e+1):\n",
    "    if var % num:\n",
    "        print(var,end=', ')"
   ]
  },
  {
   "cell_type": "code",
   "execution_count": 12,
   "metadata": {},
   "outputs": [
    {
     "name": "stdout",
     "output_type": "stream",
     "text": [
      "-16\n"
     ]
    }
   ],
   "source": [
    "for var in range(-16,-18,-2):\n",
    "    print(var)"
   ]
  },
  {
   "cell_type": "code",
   "execution_count": 15,
   "metadata": {},
   "outputs": [
    {
     "name": "stdout",
     "output_type": "stream",
     "text": [
      "-100 -99 -98 -97 -96 -95 -94 -93 -92 -91 -90 -89 -88 -87 -86 -85 -84 -83 -82 -81 -80 -79 -78 -77 -76 -75 -74 -73 -72 -71 -70 -69 -68 -67 -66 -65 -64 -63 -62 -61 -60 -59 -58 -57 -56 -55 -54 -53 -52 -51 -50 -49 -48 -47 -46 -45 -44 -43 -42 -41 -40 -39 -38 -37 -36 -35 -34 -33 -32 -31 -30 -29 -28 -27 -26 -25 -24 -23 -22 -21 -20 -19 -18 -17 -16 -15 -14 -13 -12 -11 -10 -9 -8 -7 -6 -5 -4 -3 -2 -1 "
     ]
    }
   ],
   "source": [
    "for var in range(-100,0):\n",
    "    print(var,end=' ')"
   ]
  },
  {
   "cell_type": "code",
   "execution_count": 16,
   "metadata": {},
   "outputs": [
    {
     "name": "stdout",
     "output_type": "stream",
     "text": [
      "-5 -10 -15 -20 -25 -30 -35 -40 -45 -50 -55 -60 -65 -70 -75 -80 -85 -90 -95 -100 "
     ]
    }
   ],
   "source": [
    "for var in range(-1,-101,-1):\n",
    "    if var % 5 == 0:\n",
    "        print(var,end=' ')"
   ]
  },
  {
   "cell_type": "code",
   "execution_count": 17,
   "metadata": {},
   "outputs": [
    {
     "name": "stdout",
     "output_type": "stream",
     "text": [
      "111\n",
      "No such Account exist\n"
     ]
    }
   ],
   "source": [
    "bank = {\n",
    "    'user' : ['python','java','c','c++'],\n",
    "    'acc' : [1001,1002,1003,1004],\n",
    "    'passwaor' : ['redhat','hi','bye','hello'],\n",
    "    'bal' : [50000,30000,10000]\n",
    "}\n",
    "acc = int(input())\n",
    "if acc in bank['acc']:\n",
    "    pass\n",
    "else:\n",
    "    print(\"No such Account exist\")"
   ]
  },
  {
   "cell_type": "code",
   "execution_count": 18,
   "metadata": {},
   "outputs": [
    {
     "name": "stdout",
     "output_type": "stream",
     "text": [
      "x x x\n",
      "x x x\n",
      "x x x\n",
      "Player 1 \n",
      "x : 0\n",
      "y : 0\n",
      "x : 1\n",
      "y : 1\n",
      "0 x x\n",
      "x 1 x\n",
      "x x x\n"
     ]
    }
   ],
   "source": [
    "l = [\n",
    "    [ 'x', 'x', 'x'],\n",
    "    [ 'x', 'x', 'x'],\n",
    "    [ 'x', 'x', 'x']\n",
    "]\n",
    "for var in l:\n",
    "    print(*var)\n",
    "print(\"Player 1 \")\n",
    "x1 = int(input(\"x : \"))\n",
    "y1 = int(input(\"y : \"))\n",
    "l[x1][y1] = '0'\n",
    "x2 = int(input(\"x : \"))\n",
    "y2 = int(input(\"y : \"))\n",
    "l[x2][y2] = '1'\n",
    "for var in l:\n",
    "    print(*var)"
   ]
  }
 ],
 "metadata": {
  "kernelspec": {
   "display_name": "Python 3",
   "language": "python",
   "name": "python3"
  },
  "language_info": {
   "codemirror_mode": {
    "name": "ipython",
    "version": 3
   },
   "file_extension": ".py",
   "mimetype": "text/x-python",
   "name": "python",
   "nbconvert_exporter": "python",
   "pygments_lexer": "ipython3",
   "version": "3.6.3"
  }
 },
 "nbformat": 4,
 "nbformat_minor": 2
}
