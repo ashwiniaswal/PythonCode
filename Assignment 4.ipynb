{
 "cells": [
  {
   "cell_type": "code",
   "execution_count": 7,
   "metadata": {},
   "outputs": [
    {
     "name": "stdout",
     "output_type": "stream",
     "text": [
      "Enter a number to check prime or not = 4\n",
      "Not Prime\n"
     ]
    }
   ],
   "source": [
    "def prime():\n",
    "    n = int(input(\"Enter a number to check prime or not = \"))\n",
    "    if n == 0 or n == 1 or n == 2 or n == 3:\n",
    "        return 'Prime'\n",
    "    else:\n",
    "        for i in range(3,n):\n",
    "            if n % i == 0:\n",
    "                return 'Not Prime'\n",
    "        else:\n",
    "            return 'Prime'\n",
    "x = prime()\n",
    "print(x)"
   ]
  },
  {
   "cell_type": "code",
   "execution_count": 9,
   "metadata": {},
   "outputs": [
    {
     "name": "stdout",
     "output_type": "stream",
     "text": [
      "Enter a number = 45\n",
      "Not Prime\n"
     ]
    }
   ],
   "source": [
    "def prime():\n",
    "    if n == 0 or n == 1 or n == 2 or n == 3:\n",
    "        return 'Prime'\n",
    "    else:\n",
    "        for i in range(3,n):\n",
    "            if n % i == 0:\n",
    "                return 'Not Prime'\n",
    "        else:\n",
    "            return 'Prime'\n",
    "n = int(input(\"Enter a number = \"))\n",
    "x = prime()\n",
    "print(x)"
   ]
  },
  {
   "cell_type": "code",
   "execution_count": null,
   "metadata": {
    "collapsed": true
   },
   "outputs": [],
   "source": []
  }
 ],
 "metadata": {
  "kernelspec": {
   "display_name": "Python 3",
   "language": "python",
   "name": "python3"
  },
  "language_info": {
   "codemirror_mode": {
    "name": "ipython",
    "version": 3
   },
   "file_extension": ".py",
   "mimetype": "text/x-python",
   "name": "python",
   "nbconvert_exporter": "python",
   "pygments_lexer": "ipython3",
   "version": "3.6.3"
  }
 },
 "nbformat": 4,
 "nbformat_minor": 2
}
