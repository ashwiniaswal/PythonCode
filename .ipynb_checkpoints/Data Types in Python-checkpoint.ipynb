{
 "cells": [
  {
   "cell_type": "markdown",
   "metadata": {},
   "source": [
    "# Data types in Python"
   ]
  },
  {
   "cell_type": "raw",
   "metadata": {},
   "source": [
    "1) Numbers\n",
    "2) String\n",
    "3) List\n",
    "4) Tuple\n",
    "5) Dictionary\n",
    "6) Sets"
   ]
  },
  {
   "cell_type": "markdown",
   "metadata": {},
   "source": [
    "# 1) Numbers"
   ]
  },
  {
   "cell_type": "code",
   "execution_count": 1,
   "metadata": {},
   "outputs": [
    {
     "name": "stdout",
     "output_type": "stream",
     "text": [
      "<class 'int'> 5\n",
      "<class 'float'> 3.14\n",
      "<class 'complex'> (3.14+5j)\n"
     ]
    }
   ],
   "source": [
    "x=5\n",
    "y=3.14\n",
    "z=3.14+5j\n",
    "print(type(x),x)\n",
    "print(type(y),y)\n",
    "print(type(z),z)"
   ]
  },
  {
   "cell_type": "code",
   "execution_count": 4,
   "metadata": {},
   "outputs": [
    {
     "name": "stdout",
     "output_type": "stream",
     "text": [
      "Enter something:456\n",
      "Type pf value:  <class 'int'>\n",
      "456\n"
     ]
    }
   ],
   "source": [
    "x=(input(\"Enter something:\"))\n",
    "x = int(x)\n",
    "print(\"Type pf value: \",type(x))\n",
    "print(x)"
   ]
  },
  {
   "cell_type": "code",
   "execution_count": 5,
   "metadata": {},
   "outputs": [
    {
     "name": "stdout",
     "output_type": "stream",
     "text": [
      "sinle quoted string\n",
      "double quoted string\n",
      "HI\n",
      "This is multiline string,\n",
      "Define in triple quotes\n"
     ]
    }
   ],
   "source": [
    "x = 'sinle quoted string'\n",
    "y = \"double quoted string\"\n",
    "z = \"\"\"HI\n",
    "This is multiline string,\n",
    "Define in triple quotes\"\"\"\n",
    "print(x)\n",
    "print(y)\n",
    "print(z)"
   ]
  },
  {
   "cell_type": "code",
   "execution_count": 6,
   "metadata": {},
   "outputs": [
    {
     "name": "stdout",
     "output_type": "stream",
     "text": [
      "He said,'Python is Awesome'\n"
     ]
    }
   ],
   "source": [
    "print(\"He said,'Python is Awesome'\")\n"
   ]
  },
  {
   "cell_type": "code",
   "execution_count": 8,
   "metadata": {},
   "outputs": [
    {
     "name": "stdout",
     "output_type": "stream",
     "text": [
      "Length of Python 6\n",
      "Python\n",
      "h\n",
      "t\n"
     ]
    }
   ],
   "source": [
    "s = \"Python\"\n",
    "k = len(s)\n",
    "print(\"Length of Python\",k)\n",
    "print(s)\n",
    "print(s[3])\n",
    "print(s[2])"
   ]
  },
  {
   "cell_type": "code",
   "execution_count": 12,
   "metadata": {},
   "outputs": [
    {
     "name": "stdout",
     "output_type": "stream",
     "text": [
      "Python is interpreted Language\n",
      "interpreted\n",
      "Python is interpreted\n",
      " Language\n",
      "Python is interpreted Language\n",
      "P y t h o n   i s   i n t e r p r e t e d   L a n g u a g e\n"
     ]
    }
   ],
   "source": [
    "s = \"Python is interpreted Language\"\n",
    "x = s[10:21]\n",
    "y = s[:21]\n",
    "z = s[21:]\n",
    "p = s[:]\n",
    "print(s)\n",
    "print(x)\n",
    "print(y)\n",
    "print(z)\n",
    "print(p)\n",
    "print(*s)"
   ]
  },
  {
   "cell_type": "code",
   "execution_count": 13,
   "metadata": {},
   "outputs": [
    {
     "name": "stdout",
     "output_type": "stream",
     "text": [
      "02468\n",
      "9876543210\n"
     ]
    }
   ],
   "source": [
    "s = '0123456789'\n",
    "k = s[::2]\n",
    "print(k)\n",
    "l = s[::-1]\n",
    "print(l)"
   ]
  },
  {
   "cell_type": "code",
   "execution_count": 14,
   "metadata": {},
   "outputs": [
    {
     "name": "stdout",
     "output_type": "stream",
     "text": [
      "uoy era woh dlrow olleh\n",
      "dlrow\n"
     ]
    }
   ],
   "source": [
    "s = 'hello world how are you'\n",
    "print(s[::-1])\n",
    "print(s[-13:-18:-1])"
   ]
  },
  {
   "cell_type": "code",
   "execution_count": 15,
   "metadata": {
    "scrolled": true
   },
   "outputs": [
    {
     "name": "stdout",
     "output_type": "stream",
     "text": [
      "['__add__', '__class__', '__contains__', '__delattr__', '__dir__', '__doc__', '__eq__', '__format__', '__ge__', '__getattribute__', '__getitem__', '__getnewargs__', '__gt__', '__hash__', '__init__', '__init_subclass__', '__iter__', '__le__', '__len__', '__lt__', '__mod__', '__mul__', '__ne__', '__new__', '__reduce__', '__reduce_ex__', '__repr__', '__rmod__', '__rmul__', '__setattr__', '__sizeof__', '__str__', '__subclasshook__', 'capitalize', 'casefold', 'center', 'count', 'encode', 'endswith', 'expandtabs', 'find', 'format', 'format_map', 'index', 'isalnum', 'isalpha', 'isdecimal', 'isdigit', 'isidentifier', 'islower', 'isnumeric', 'isprintable', 'isspace', 'istitle', 'isupper', 'join', 'ljust', 'lower', 'lstrip', 'maketrans', 'partition', 'replace', 'rfind', 'rindex', 'rjust', 'rpartition', 'rsplit', 'rstrip', 'split', 'splitlines', 'startswith', 'strip', 'swapcase', 'title', 'translate', 'upper', 'zfill']\n"
     ]
    }
   ],
   "source": [
    "x = 'python'\n",
    "print(dir(x))"
   ]
  },
  {
   "cell_type": "code",
   "execution_count": 16,
   "metadata": {},
   "outputs": [
    {
     "name": "stdout",
     "output_type": "stream",
     "text": [
      "HeLo WorLd\n",
      "HELO WORLD\n",
      "helo world\n",
      "hElO wORlD\n"
     ]
    }
   ],
   "source": [
    "\n",
    "s = \"HeLo WorLd\"\n",
    "k = s.upper()\n",
    "l = s.lower()\n",
    "h = s.swapcase()\n",
    "print(s)\n",
    "print(k)\n",
    "print(l)\n",
    "print(h)"
   ]
  },
  {
   "cell_type": "code",
   "execution_count": 17,
   "metadata": {},
   "outputs": [
    {
     "name": "stdout",
     "output_type": "stream",
     "text": [
      "S.title() -> str\n",
      "\n",
      "Return a titlecased version of S, i.e. words start with title case\n",
      "characters, all remaining cased characters have lower case.\n"
     ]
    }
   ],
   "source": [
    "s = 'PYthon'\n",
    "doc = s.title.__doc__\n",
    "print(doc)"
   ]
  },
  {
   "cell_type": "code",
   "execution_count": 19,
   "metadata": {},
   "outputs": [
    {
     "name": "stdout",
     "output_type": "stream",
     "text": [
      "4\n",
      "All Dogss are Cat but all Cats are not Dog.\n",
      "All Catss are Cat but all Cats are not Cat.\n"
     ]
    }
   ],
   "source": [
    "s = \"All Dogss are Cat but all Cats are not Dog.\"\n",
    "k = s.find('Dog')\n",
    "print(k)\n",
    "l = s.replace('Dog','Cat')\n",
    "print(s)\n",
    "print(l)"
   ]
  },
  {
   "cell_type": "markdown",
   "metadata": {},
   "source": [
    "# LIST"
   ]
  },
  {
   "cell_type": "code",
   "execution_count": 1,
   "metadata": {},
   "outputs": [
    {
     "name": "stdout",
     "output_type": "stream",
     "text": [
      "5 2 3 56 34 23 46 2\n",
      "hello 3 14 [1, 2, 3] 12345\n",
      "56 34 23 46\n"
     ]
    }
   ],
   "source": [
    "mylist = [ 5,2,3,56,34,23,46,2]#it can be called array(homogenous)\n",
    "mylist1 = [ 'hello',3,14,[1,2,3],12345]\n",
    "print(*mylist)\n",
    "print(*mylist1)\n",
    "k = mylist[3:7]\n",
    "print(*k)"
   ]
  },
  {
   "cell_type": "code",
   "execution_count": 4,
   "metadata": {},
   "outputs": [
    {
     "name": "stdout",
     "output_type": "stream",
     "text": [
      "4 7 10 13 16 19\n",
      "20 19 18 17 16 15 14 13 12 11 10 9 8 7 6 5 4 3 2 1\n",
      "1 3 5 7 9 11 13 15 17 19\n",
      "1 2 3 4 5 6 7 8 9 10\n",
      "16 14 12 10 8\n"
     ]
    }
   ],
   "source": [
    "l = [ 1,2,3,4,5,6,7,8,9,10,11,12,13,14,15,16,17,18,19,20]\n",
    "print(*l[3::3])\n",
    "print(*l[::-1])\n",
    "print(*l[::2])\n",
    "print(*l[-20:-10])\n",
    "print(*l[-5:-15:-2])"
   ]
  },
  {
   "cell_type": "code",
   "execution_count": 5,
   "metadata": {
    "scrolled": true
   },
   "outputs": [
    {
     "name": "stdout",
     "output_type": "stream",
     "text": [
      "['__add__', '__class__', '__contains__', '__delattr__', '__delitem__', '__dir__', '__doc__', '__eq__', '__format__', '__ge__', '__getattribute__', '__getitem__', '__gt__', '__hash__', '__iadd__', '__imul__', '__init__', '__init_subclass__', '__iter__', '__le__', '__len__', '__lt__', '__mul__', '__ne__', '__new__', '__reduce__', '__reduce_ex__', '__repr__', '__reversed__', '__rmul__', '__setattr__', '__setitem__', '__sizeof__', '__str__', '__subclasshook__', 'append', 'clear', 'copy', 'count', 'extend', 'index', 'insert', 'pop', 'remove', 'reverse', 'sort']\n"
     ]
    }
   ],
   "source": [
    "mylist = [ 1,23,4,123,'hi',45,10,12,66,77,'hello']\n",
    "print(dir(mylist))"
   ]
  },
  {
   "cell_type": "markdown",
   "metadata": {},
   "source": [
    "List Functions\n",
    "\n",
    "Functions that are used to add items into list\n",
    "\n",
    "append insert extend\n",
    "\n",
    "Functions that are used delete items from list\n",
    "\n",
    "pop remove\n",
    "\n",
    "Some Common Functions of list\n",
    "\n",
    "sort reverse count index copy clear"
   ]
  },
  {
   "cell_type": "code",
   "execution_count": 6,
   "metadata": {},
   "outputs": [
    {
     "name": "stdout",
     "output_type": "stream",
     "text": [
      "1 23 4 23 hi 45 10 12 66 77 hello\n",
      "1 23 4 23 hi 45 10 12 66 77 hello bye\n",
      "1 23 4 23 hi 45 10 12 66 77 hello bye 56 24 23\n"
     ]
    }
   ],
   "source": [
    "#Functions that are used to add items\n",
    "#append -> it will add an item at the end of the list use - mylist.append(item)\n",
    "mylist = [ 1,23,4,23,'hi',45,10,12,66,77,'hello']\n",
    "print(*mylist)\n",
    "mylist.append('bye')\n",
    "print(*mylist)\n",
    "mylist.append(56)\n",
    "mylist.append(24)\n",
    "mylist.append(23)\n",
    "print(*mylist)"
   ]
  },
  {
   "cell_type": "code",
   "execution_count": 7,
   "metadata": {},
   "outputs": [
    {
     "name": "stdout",
     "output_type": "stream",
     "text": [
      "1 23 4 23 hi 45 10 12 66 77 hello\n",
      "1 23 4 23 100 23 45 10 12 66 77 hello\n"
     ]
    }
   ],
   "source": [
    "mylist = [ 1,23,4,23,'hi',45,10,12,66,77,'hello']\n",
    "print(*mylist)\n",
    "#1 23 4 23 hi 45 10 12 66 77 hello bye 56 24 23\n",
    "#insert -> it will take index number and item and add that item to given index\n",
    "#use = mylist.insert(index,item)\n",
    "mylist.insert(4,100)\n",
    "mylist[5] = 23\n",
    "print(*mylist)\n",
    "#extend is used to add multiple items"
   ]
  },
  {
   "cell_type": "code",
   "execution_count": 8,
   "metadata": {},
   "outputs": [
    {
     "name": "stdout",
     "output_type": "stream",
     "text": [
      "[1, 23, 4, 23, 'hi', 45, 10, 12, 66, 77, 'hello', 'p', 'y', 't', 'h', 'o', 'n', 'hello', 'world']\n"
     ]
    }
   ],
   "source": [
    "mylist = [ 1,23,4,23,'hi',45,10,12,66,77,'hello']\n",
    "mylist.extend('python')\n",
    "mylist.extend(['hello','world'])\n",
    "print(mylist)"
   ]
  },
  {
   "cell_type": "code",
   "execution_count": 1,
   "metadata": {},
   "outputs": [
    {
     "name": "stdout",
     "output_type": "stream",
     "text": [
      "[1, 23, 'python', 4, 23, 'hi', 23, 45, 'hello', 10, 12, 23, 66, 77]\n",
      "[1, 23, 4, 23, 'hi', 23, 45, 'hello', 10, 12, 23, 66, 77]\n",
      "[1, 4, 23, 23, 45, 10, 12, 23, 66, 77]\n",
      "[77, 66, 45, 23, 23, 23, 12, 10, 4, 1]\n",
      "['challo', 'hello', 'yellow', 'zello']\n",
      "['zello', 'yellow', 'hello', 'challo']\n"
     ]
    }
   ],
   "source": [
    "mylist = [1, 23, 'python', 4, 23, 'hi', 23, 45, 'hello', 10, 12, 23, 66, 77, 'hello', 'p', 'y', 't', 'h', 'o', 'n', 'hello', 'world']\n",
    "mylist.pop();mylist.pop();mylist.pop()\n",
    "mylist.pop();mylist.pop();mylist.pop()\n",
    "mylist.pop();mylist.pop();mylist.pop()\n",
    "print(mylist)\n",
    "mylist.pop(2)\n",
    "print(mylist)\n",
    "mylist.remove('hi')\n",
    "mylist.remove('hello')\n",
    "mylist.remove(23)\n",
    "print(mylist)\n",
    "k = mylist.count(23)\n",
    "mylist = mylist.copy()\n",
    "#mylist1.clear()\n",
    "mylist.sort(reverse=True)\n",
    "print(mylist)\n",
    "l = [ 'zello','yellow','hello','challo']\n",
    "l.sort()\n",
    "print(l)\n",
    "l.sort(reverse=True)\n",
    "print(l)"
   ]
  },
  {
   "cell_type": "code",
   "execution_count": 2,
   "metadata": {
    "scrolled": false
   },
   "outputs": [
    {
     "name": "stdout",
     "output_type": "stream",
     "text": [
      "[0, 1, 2, 3, 4, 5, 6, 7, 8, 9, 10, 11, 12, 13, 14, 15, 16, 17, 18, 19, 20, 21, 22, 23, 24, 25, 26, 27, 28, 29, 30, 31, 32, 33, 34, 35, 36, 37, 38, 39, 40, 41, 42, 43, 44, 45, 46, 47, 48, 49, 50, 51, 52, 53, 54, 55, 56, 57, 58, 59, 60, 61, 62, 63, 64, 65, 66, 67, 68, 69, 70, 71, 72, 73, 74, 75, 76, 77, 78, 79, 80, 81, 82, 83, 84, 85, 86, 87, 88, 89, 90, 91, 92, 93, 94, 95, 96, 97, 98, 99]\n"
     ]
    }
   ],
   "source": [
    "l = [ var for var in range(100) ]\n",
    "print(l)"
   ]
  },
  {
   "cell_type": "markdown",
   "metadata": {},
   "source": [
    "# Tuple"
   ]
  },
  {
   "cell_type": "markdown",
   "metadata": {},
   "source": [
    "Tuples are immutable data types that can be changed after it's definition"
   ]
  },
  {
   "cell_type": "code",
   "execution_count": 1,
   "metadata": {},
   "outputs": [
    {
     "name": "stdout",
     "output_type": "stream",
     "text": [
      "('one', 2, 'three', 2, [1, 2, 3, 4], 5, 3, 2, 324)\n",
      "['__add__', '__class__', '__contains__', '__delattr__', '__dir__', '__doc__', '__eq__', '__format__', '__ge__', '__getattribute__', '__getitem__', '__getnewargs__', '__gt__', '__hash__', '__init__', '__init_subclass__', '__iter__', '__le__', '__len__', '__lt__', '__mul__', '__ne__', '__new__', '__reduce__', '__reduce_ex__', '__repr__', '__rmul__', '__setattr__', '__sizeof__', '__str__', '__subclasshook__', 'count', 'index']\n",
      "(324, 2, 3, 5, [1, 2, 3, 4], 2, 'three', 2, 'one')\n",
      "2 is replaced 3 times in tuple \n",
      "Index of 3 is  2\n",
      "4\n"
     ]
    }
   ],
   "source": [
    "my_tuple = ('one',2,'three',2,[1,2,3,4],5,3,2,324)\n",
    "print(my_tuple)\n",
    "print(dir(my_tuple))\n",
    "print(my_tuple[-1::-1])\n",
    "print(\"2 is replaced {} times in tuple \".format(my_tuple.count(2)))\n",
    "print(\"Index of 3 is \",my_tuple.index('three'))\n",
    "print(my_tuple[4][3])"
   ]
  },
  {
   "cell_type": "code",
   "execution_count": 2,
   "metadata": {},
   "outputs": [
    {
     "name": "stdout",
     "output_type": "stream",
     "text": [
      "['a[2][0]', 'a[2][1]', 'a[2][2]']\n",
      "a[2][2]\n"
     ]
    }
   ],
   "source": [
    "mylist = [\n",
    "    ['a[0][0]','a[0][1]','a[0][2]'],\n",
    "    ['a[1][0]','a[1][1]','a[1][2]'],\n",
    "    ['a[2][0]','a[2][1]','a[2][2]'],\n",
    "]\n",
    "print(mylist[2])\n",
    "print(mylist[2][2])"
   ]
  },
  {
   "cell_type": "code",
   "execution_count": 3,
   "metadata": {},
   "outputs": [
    {
     "name": "stdout",
     "output_type": "stream",
     "text": [
      "hello\n"
     ]
    }
   ],
   "source": [
    "mylist = [\n",
    "    [1,2,45,34,234],\n",
    "    [123,34,6,67,45],\n",
    "    [23,4,7,78,[23,45,'hello',4]],\n",
    "]\n",
    "x = mylist[2][4][2]\n",
    "print(x)"
   ]
  },
  {
   "cell_type": "markdown",
   "metadata": {},
   "source": [
    "# Dictionary"
   ]
  },
  {
   "cell_type": "markdown",
   "metadata": {},
   "source": [
    "Dictionaries are collection of keys and values."
   ]
  },
  {
   "cell_type": "code",
   "execution_count": 5,
   "metadata": {},
   "outputs": [
    {
     "name": "stdout",
     "output_type": "stream",
     "text": [
      "name scope built_year Frame_Works Father Fields\n",
      "['__class__', '__contains__', '__delattr__', '__delitem__', '__dir__', '__doc__', '__eq__', '__format__', '__ge__', '__getattribute__', '__getitem__', '__gt__', '__hash__', '__init__', '__init_subclass__', '__iter__', '__le__', '__len__', '__lt__', '__ne__', '__new__', '__reduce__', '__reduce_ex__', '__repr__', '__setattr__', '__setitem__', '__sizeof__', '__str__', '__subclasshook__', 'clear', 'copy', 'fromkeys', 'get', 'items', 'keys', 'pop', 'popitem', 'setdefault', 'update', 'values']\n",
      "python\n",
      "dict_keys(['name', 'scope', 'built_year', 'Frame_Works', 'Father', 'Fields'])\n",
      "dict_values(['python', 'World Wide', 1994, ['Django', 'Flask', 'Web2py', 'Pyramid'], 'Guido Van Rossum', ['Scripting', 'Automation', 'Cloud', 'AI', 'ML', 'Data Science', 'Web Designing', 'Software Development']])\n",
      "D.update([E, ]**F) -> None.  Update D from dict/iterable E and F.\n",
      "If E is present and has a .keys() method, then does:  for k in E: D[k] = E[k]\n",
      "If E is present and lacks a .keys() method, then does:  for k, v in E: D[k] = v\n",
      "In either case, this is followed by: for k in F:  D[k] = F[k]\n"
     ]
    }
   ],
   "source": [
    "mydict = {\n",
    "    'name' : 'python',\n",
    "    'scope' : 'World Wide',\n",
    "    'built_year' : 1994,\n",
    "    'Frame_Works' : ['Django','Flask','Web2py','Pyramid'],\n",
    "    'Father' : 'Guido Van Rossum',\n",
    "    'Fields' : ['Scripting','Automation','Cloud','AI','ML','Data Science','Web Designing','Software Development'],\n",
    "}\n",
    "print(*mydict)\n",
    "print(dir(mydict))\n",
    "print(mydict.get('name'))\n",
    "print(mydict.keys())\n",
    "print(mydict.values())\n",
    "print(mydict.update.__doc__)"
   ]
  },
  {
   "cell_type": "code",
   "execution_count": 6,
   "metadata": {},
   "outputs": [
    {
     "name": "stdout",
     "output_type": "stream",
     "text": [
      "Here are your keys to select \n",
      "name scope built_year Frame_Works Father Fields\n",
      "Enter a key : scope\n",
      "Your key is : scope\n",
      "World Wide\n",
      "Enter your value : 3\n",
      "Enter a key : hello\n",
      "World Wide successfully added\n",
      "{'name': 'Python Programming Language', 'scope': 'World Wide', 'built_year': 1994, 'Frame_Works': ['Django', 'Flask', 'Web2py', 'Pyramid'], 'Father': 'Guido Van Rossum', 'Fields': ['Scripting', 'Automation', 'Cloud', 'AI', 'ML', 'Data Science', 'Web Designing', 'Software Development'], 'hello': '3'}\n"
     ]
    }
   ],
   "source": [
    "mydict = {\n",
    "    'name' : 'python',\n",
    "    'scope' : 'World Wide',\n",
    "    'built_year' : 1994,\n",
    "    'Frame_Works' : ['Django','Flask','Web2py','Pyramid'],\n",
    "    'Father' : 'Guido Van Rossum',\n",
    "    'Fields' : ['Scripting','Automation','Cloud','AI','ML','Data Science','Web Designing','Software Development'],\n",
    "}\n",
    "print(\"Here are your keys to select \")\n",
    "print(*mydict.keys())\n",
    "mydict['name'] = 'Python Programming Language'\n",
    "key = input(\"Enter a key : \").strip().lower()\n",
    "print(\"Your key is : {}\".format(key))\n",
    "value = mydict[key]\n",
    "print(value)\n",
    "#key = input(\"Enter a key)\n",
    "#value = input(\"Enter a value for the key\")\n",
    "#mydict[key] = value\n",
    "mydict[input(\"Enter a key : \")] = input(\"Enter your value : \")\n",
    "print(mydict[key],\"successfully added\")\n",
    "print(mydict)"
   ]
  },
  {
   "cell_type": "markdown",
   "metadata": {},
   "source": [
    "# Sets In Python"
   ]
  },
  {
   "cell_type": "code",
   "execution_count": 5,
   "metadata": {},
   "outputs": [
    {
     "name": "stdout",
     "output_type": "stream",
     "text": [
      "{1, 2, 3, 4, 5}\n",
      "{4, 5, 6, 7, 8}\n",
      "Type of s1 =  <class 'set'>\n",
      "['__and__', '__class__', '__contains__', '__delattr__', '__dir__', '__doc__', '__eq__', '__format__', '__ge__', '__getattribute__', '__gt__', '__hash__', '__iand__', '__init__', '__init_subclass__', '__ior__', '__isub__', '__iter__', '__ixor__', '__le__', '__len__', '__lt__', '__ne__', '__new__', '__or__', '__rand__', '__reduce__', '__reduce_ex__', '__repr__', '__ror__', '__rsub__', '__rxor__', '__setattr__', '__sizeof__', '__str__', '__sub__', '__subclasshook__', '__xor__', 'add', 'clear', 'copy', 'difference', 'difference_update', 'discard', 'intersection', 'intersection_update', 'isdisjoint', 'issubset', 'issuperset', 'pop', 'remove', 'symmetric_difference', 'symmetric_difference_update', 'union', 'update']\n"
     ]
    }
   ],
   "source": [
    "s1 = { 1,2,3,4,5,1,1,1,1,1,5,5,5,5}\n",
    "s2 = { 4,5,6,7,8,8,8,8,8,8,5,5,5,5}\n",
    "print(s1)\n",
    "print(s2)\n",
    "print(\"Type of s1 = \",type(s1))\n",
    "print(dir(s1))"
   ]
  },
  {
   "cell_type": "code",
   "execution_count": 4,
   "metadata": {},
   "outputs": [
    {
     "name": "stdout",
     "output_type": "stream",
     "text": [
      "{1, 2, 3, 4, 5}\n",
      "{4, 5, 6, 7, 8}\n",
      "('Intersection of s1 and s2 is ', {4, 5})\n",
      "Union of s1 and s2 is  {1, 2, 3, 4, 5, 6, 7, 8}\n",
      "Difference of {1, 2, 3, 4, 5} with {4, 5, 6, 7, 8} is {1, 2, 3} \n"
     ]
    }
   ],
   "source": [
    "s1 = { 1,2,3,4,5,1,1,1,1,1,5,5,5,5}\n",
    "s2 = { 4,5,6,7,8,8,8,8,8,8,5,5,5,5}\n",
    "print(s1)\n",
    "print(s2)\n",
    "#value = s1.intersection(s2)\n",
    "print((\"Intersection of s1 and s2 is \",s1.intersection(s2)))\n",
    "#value = s1.union(s2)\n",
    "print(\"Union of s1 and s2 is \",s1.union(s2))\n",
    "value = s1.difference(s2)\n",
    "print(\"Difference of {} with {} is {} \".format(s1,s2,value))"
   ]
  },
  {
   "cell_type": "code",
   "execution_count": 2,
   "metadata": {},
   "outputs": [
    {
     "name": "stdout",
     "output_type": "stream",
     "text": [
      "Enter key1 : 1\n",
      "Enter value1 : one\n",
      "Enter key2 : 2\n",
      "Enter value2 : two\n",
      "{'1': 'one', '2': 'two'}\n"
     ]
    }
   ],
   "source": [
    "outer_list = []\n",
    "inner_list = []\n",
    "\n",
    "key1 = input(\"Enter key1 : \")\n",
    "value1 = input(\"Enter value1 : \")\n",
    "inner_list.append(key1)\n",
    "inner_list.append(value1)\n",
    "outer_list.append(inner_list)\n",
    "d = dict(outer_list)\n",
    "inner_list.clear()\n",
    "key2 = input(\"Enter key2 : \")\n",
    "value2 = input(\"Enter value2 : \")\n",
    "inner_list.append(key2)\n",
    "inner_list.append(value2)\n",
    "outer_list.append(inner_list)\n",
    "d.update(outer_list)\n",
    "print(d)"
   ]
  },
  {
   "cell_type": "code",
   "execution_count": 1,
   "metadata": {},
   "outputs": [
    {
     "name": "stdout",
     "output_type": "stream",
     "text": [
      "Enter key1 : 1\n",
      "Enter value1 : one\n",
      "Enter key2 : 2\n",
      "Enter value2 : two\n",
      "{'1': 'one', '2': 'two'}\n"
     ]
    }
   ],
   "source": [
    "d = {\n",
    "    input(\"Enter key1 : \") : input(\"Enter value1 : \"),\n",
    "    input(\"Enter key2 : \") : input(\"Enter value2 : \")\n",
    "}\n",
    "print(d)"
   ]
  }
 ],
 "metadata": {
  "kernelspec": {
   "display_name": "Python 3",
   "language": "python",
   "name": "python3"
  },
  "language_info": {
   "codemirror_mode": {
    "name": "ipython",
    "version": 3
   },
   "file_extension": ".py",
   "mimetype": "text/x-python",
   "name": "python",
   "nbconvert_exporter": "python",
   "pygments_lexer": "ipython3",
   "version": "3.6.3"
  }
 },
 "nbformat": 4,
 "nbformat_minor": 2
}
