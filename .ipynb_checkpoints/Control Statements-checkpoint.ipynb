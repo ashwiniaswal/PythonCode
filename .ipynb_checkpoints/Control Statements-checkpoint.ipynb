{
 "cells": [
  {
   "cell_type": "markdown",
   "metadata": {},
   "source": [
    "# Control Statements"
   ]
  },
  {
   "cell_type": "raw",
   "metadata": {},
   "source": [
    "Syntax\n",
    "if condition:(:is defined as indentation operator used define block of code)\n",
    "    statement1\n",
    "    statement2\n",
    "        \"\n",
    "        \"\n",
    "    statementn\n",
    "else:\n",
    "    statement1\n",
    "    statement2\n",
    "        \"\n",
    "        \"\n",
    "    statementn"
   ]
  },
  {
   "cell_type": "code",
   "execution_count": 1,
   "metadata": {},
   "outputs": [
    {
     "name": "stdout",
     "output_type": "stream",
     "text": [
      "Enter a number : 5\n",
      "Odd\n"
     ]
    }
   ],
   "source": [
    "#Even Odd\n",
    "x = int(input(\"Enter a number : \"))\n",
    "if x % 2 == 0:\n",
    "    print(\"Even\")\n",
    "else:\n",
    "    print(\"Odd\")"
   ]
  },
  {
   "cell_type": "code",
   "execution_count": 3,
   "metadata": {},
   "outputs": [
    {
     "name": "stdout",
     "output_type": "stream",
     "text": [
      "A = 3\n",
      "B = 6\n",
      "C = 1\n",
      "B that is 6 is greatest\n"
     ]
    }
   ],
   "source": [
    "#Greatest among three numbers\n",
    "a = int(input(\"A = \"))\n",
    "b = int(input(\"B = \"))\n",
    "c = int(input(\"C = \"))\n",
    "if a >= b:\n",
    "    if a >= c:\n",
    "        print(\"A that is {} is greatest\".format(a))\n",
    "    else:\n",
    "        print(\"B that is {} is greatest\".format(b))\n",
    "elif b >= c:\n",
    "    print(\"B that is {} is greatest\".format(b))\n",
    "else:\n",
    "    print(\"C is greatest\".format(c))"
   ]
  },
  {
   "cell_type": "code",
   "execution_count": null,
   "metadata": {},
   "outputs": [],
   "source": [
    "a = int(input(\"A = \"))\n",
    "b = int(input(\"B = \"))\n",
    "c = int(input(\"C = \"))\n",
    "if a >= b and a >= c:\n",
    "    print(\"A is greatest\")\n",
    "elif b >= a and b >= c:\n",
    "    print(\"B is greatest\")\n",
    "else:\n",
    "    print(\"C is greatest\")"
   ]
  }
 ],
 "metadata": {
  "kernelspec": {
   "display_name": "Python 3",
   "language": "python",
   "name": "python3"
  },
  "language_info": {
   "codemirror_mode": {
    "name": "ipython",
    "version": 3
   },
   "file_extension": ".py",
   "mimetype": "text/x-python",
   "name": "python",
   "nbconvert_exporter": "python",
   "pygments_lexer": "ipython3",
   "version": "3.6.3"
  }
 },
 "nbformat": 4,
 "nbformat_minor": 2
}
