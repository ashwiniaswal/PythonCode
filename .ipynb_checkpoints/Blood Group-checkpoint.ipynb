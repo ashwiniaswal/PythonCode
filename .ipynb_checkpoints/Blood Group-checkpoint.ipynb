{
 "cells": [
  {
   "cell_type": "code",
   "execution_count": 16,
   "metadata": {},
   "outputs": [
    {
     "name": "stdout",
     "output_type": "stream",
     "text": [
      "Blood Groups can be :  A+, A-, B+, B-, AB+, AB-, O+, O-\n",
      "Enter the Blood Group of Doner : F+\n",
      "Enter the Blood Group of Accepter : D+\n",
      "Enter Correct Blood Group\n"
     ]
    }
   ],
   "source": [
    "x = \"A+, A-, B+, B-, AB+, AB-, O+, O-\"\n",
    "print(\"Blood Groups can be : \",x)\n",
    "d = input(\"Enter the Blood Group of Doner : \")\n",
    "a = input(\"Enter the Blood Group of Accepter : \")\n",
    "if d == x and a == x:\n",
    "    print(\"Correct blood groups\")\n",
    "elif a == 'O-':\n",
    "    print(\"Cannot Accept Blood\")\n",
    "elif a == 'AB+':\n",
    "    print(\"AB+ Can Accepts All Blood Groups as it is a Universal Accepter\")\n",
    "elif d == 'O+':\n",
    "    print(\"O+ Can Donate Blood To All Blood Groups as it is a Universal Doner\")\n",
    "elif d == a:\n",
    "    print(\"Can Donate Blood\")\n",
    "else:\n",
    "    print(\"Enter Correct Blood Group\")"
   ]
  },
  {
   "cell_type": "code",
   "execution_count": 17,
   "metadata": {},
   "outputs": [
    {
     "name": "stdout",
     "output_type": "stream",
     "text": [
      "Blood Groups can be :  {'A+': ['Donor', 'Accepter'], 'A-': ['Donor', 'Accepter'], 'B+': ['Donor', 'Accepter'], 'B-': ['Donor', 'Accepter'], 'AB+': ['Donor', 'Accepter'], 'AB-': ['Donor', 'Accepter'], 'O+': ['Donor', 'Accepter'], 'O-': ['Donor', 'Accepter']}\n",
      "Enter the Blood Group of Donor : b+\n",
      "Enter the Blood Group of Accepter : ab+\n",
      "Cannot Donate Blood\n"
     ]
    }
   ],
   "source": [
    "dict = {'A+' : ['Donor', 'Accepter'],\n",
    "        'A-' : ['Donor', 'Accepter'],\n",
    "        'B+' : ['Donor', 'Accepter'],\n",
    "        'B-' : ['Donor', 'Accepter'],\n",
    "        'AB+' : ['Donor', 'Accepter'],\n",
    "        'AB-' : ['Donor', 'Accepter'],\n",
    "        'O+' : ['Donor', 'Accepter'],\n",
    "        'O-' : ['Donor', 'Accepter']}\n",
    "print(\"Blood Groups can be : \",dict)\n",
    "d = input(\"Enter the Blood Group of Donor : \").strip().upper()\n",
    "a = input(\"Enter the Blood Group of Accepter : \").strip().upper()\n",
    "if d in dict and a in dict:\n",
    "    if d == a:\n",
    "        print(\"Can Donate Blood\")\n",
    "    else:\n",
    "        print(\"Cannot Donate Blood\")\n",
    "else:\n",
    "    print(\"Enter Correct Blood Group\")"
   ]
  },
  {
   "cell_type": "code",
   "execution_count": 18,
   "metadata": {},
   "outputs": [
    {
     "name": "stdout",
     "output_type": "stream",
     "text": [
      "Blood Groups can be :  {'B+', 'AB+', 'A+', 'AB-', 'A-', 'O+', 'O-', 'B-'}\n",
      "Enter the Blood Group of Donor : a+\n",
      "Enter the Blood Group of Accepter : ab+\n",
      "Cannot Donate Blood\n"
     ]
    }
   ],
   "source": [
    "dict = {'A+', 'A-', 'B+', 'B-', 'AB+', 'AB-', 'O+', 'O-'}\n",
    "print(\"Blood Groups can be : \",dict)\n",
    "d = input(\"Enter the Blood Group of Donor : \").strip().upper()\n",
    "a = input(\"Enter the Blood Group of Accepter : \").strip().upper()\n",
    "if d in dict and a in dict:\n",
    "    if d == a:\n",
    "        print(\"Can Donate Blood\")\n",
    "    else:\n",
    "        print(\"Cannot Donate Blood\")\n",
    "else:\n",
    "    print(\"Enter Correct Blood Group\")"
   ]
  },
  {
   "cell_type": "code",
   "execution_count": 10,
   "metadata": {},
   "outputs": [
    {
     "ename": "SyntaxError",
     "evalue": "invalid syntax (<ipython-input-10-43e973b0e1a9>, line 4)",
     "output_type": "error",
     "traceback": [
      "\u001b[1;36m  File \u001b[1;32m\"<ipython-input-10-43e973b0e1a9>\"\u001b[1;36m, line \u001b[1;32m4\u001b[0m\n\u001b[1;33m    'AB' : [{{'AB+' : [{'Donor' : ['AB+']}, {'Accepter' : ['A+', 'A_', 'B+', 'B-', 'AB+','AB-', 'O+', 'O-']}]},\u001b[0m\n\u001b[1;37m       ^\u001b[0m\n\u001b[1;31mSyntaxError\u001b[0m\u001b[1;31m:\u001b[0m invalid syntax\n"
     ]
    }
   ],
   "source": [
    "dict = {\n",
    "    'A' : [{{'A+' : [{'Donor' : ['A', 'AB+']}, {'Accepter' : ['A+', 'A-', 'O+', 'O-']}]},\n",
    "            {'A-' : [{'Donor' : ['A+', 'A-', 'AB+', 'AB-']}, {'Accepter' : ['A-', 'O-']}]}}]\n",
    "    'AB' : [{{'AB+' : [{'Donor' : ['AB+']}, {'Accepter' : ['A+', 'A_', 'B+', 'B-', 'AB+','AB-', 'O+', 'O-']}]},\n",
    "             {'AB-' : [{'Donor' : ['AB+', 'AB-']}, {'Accepter' : ['AB-', 'A-', 'B-', 'O-']}]}}]\n",
    "    'B' : [{{'B+' : [{'Donor' : ['B+', 'AB+']}, {'Accepter' : ['B+', 'B-', 'O+', 'O-']}]},\n",
    "            {'B-' : [{'Donor' : ['B+', 'B-', 'AB+', 'AB-']}, {'Accepter' : ['B-', 'O-']}]}}]\n",
    "    'O' : [{{'O+' : [{'Donor' : ['O+', 'A+', 'B+', 'AB+']}, {'Accepter' : ['O+', 'O-']}]},\n",
    "            {'O-' : [{'Donor' : ['A+', 'A-', 'B+', 'B-', 'AB+', 'AB-', 'O+', 'O-']}, {'Accepter' : ['O-']}]}}]\n",
    "}\n",
    "x = print(*dict.keys(keys()))\n",
    "d = input(\"Enter a Blood Group of Donor : \".strip().upper()\n",
    "a = input(\"Enter a Blood Group of Accepter : \").strip().upper()"
   ]
  },
  {
   "cell_type": "code",
   "execution_count": 38,
   "metadata": {},
   "outputs": [
    {
     "name": "stdout",
     "output_type": "stream",
     "text": [
      "Blood Goups Can be :  A+ A- AB+ AB- B+ B- O+ O-\n",
      "Are you a Donor or Accepter (d/a) : d\n",
      "Your choice is :  d\n",
      "Enter Correct Blood Group\n"
     ]
    }
   ],
   "source": [
    "dict = {\n",
    "    'A+' : [{'Donate to' : ['A', 'AB+'],\n",
    "             'Accept from' : ['A+', 'A-', 'O+', 'O-']}],\n",
    "    'A-' : [{'Donate to' : ['A+', 'A-', 'AB+', 'AB-'],\n",
    "             'Accept from' : ['A-', 'O-']}],\n",
    "    'AB+' : [{'Donate to' : ['AB+'],\n",
    "              'Accept from' : ['A+', 'A_', 'B+', 'B-', 'AB+', 'AB-', 'O+', 'O-']}],\n",
    "    'AB-' : [{'Donate to' : ['AB+', 'AB-'],\n",
    "              'Accept from' : ['AB-', 'A-', 'B-', 'O-']}],\n",
    "    'B+' : [{'Donate to' : ['B+', 'AB+'],\n",
    "             'Accept from' : ['B+', 'B-', 'O+', 'O-']}],\n",
    "    'B-' : [{'Donate to' : ['B+', 'B-', 'AB+', 'AB-'],\n",
    "             'Accept from' : ['B-', 'O-']}],\n",
    "    'O+' : [{'Donate to' : ['O+', 'A+', 'B+', 'AB+'],\n",
    "             'Accept from' : ['O+', 'O-']}],\n",
    "    'O-' : [{'Donate to' : ['A+', 'A-', 'B+', 'B-', 'AB+', 'AB-', 'O+', 'O-'],\n",
    "             'Accept from' : ['O-']}]\n",
    "}\n",
    "x = print(\"Blood Goups Can be : \",*dict.keys())\n",
    "y = input(\"Are you a Donor or Accepter (d/a) : \")\n",
    "print(\"Your choice is : \", y)\n",
    "if y == d:\n",
    "    p = input(\"Enter the Blood Group of Donor : \").strip().upper()\n",
    "    if p in x:\n",
    "        value = dict.get(d)\n",
    "        print(\"Can Donate Blood to \", dict(value))\n",
    "elif y == a:\n",
    "    q = input(\"Enter the Blood Group of Accepter : \").strip().upper()\n",
    "    if q in x:\n",
    "        value = dict(a)\n",
    "        print(\"Can Accept Blood From : \", dict(value))\n",
    "else:\n",
    "    print(\"Enter Correct Blood Group\")"
   ]
  },
  {
   "cell_type": "code",
   "execution_count": 4,
   "metadata": {},
   "outputs": [
    {
     "name": "stdout",
     "output_type": "stream",
     "text": [
      "Enter a Blood Group : f+\n",
      "Enter Correct Blood Group\n"
     ]
    }
   ],
   "source": [
    "dict = {\n",
    "    'A+' : [{'Donate to' : ['A+', 'AB+'],\n",
    "             'Accept from' : ['A+', 'A-', 'O+', 'O-']}],\n",
    "    'A-' : [{'Donate to' : ['A+', 'A-', 'AB+', 'AB-'],\n",
    "             'Accept from' : ['A-', 'O-']}],\n",
    "    'AB+' : [{'Donate to' : ['AB+'],\n",
    "              'Accept from' : ['A+', 'A-', 'B+', 'B-', 'AB+', 'AB-', 'O+', 'O-']}],\n",
    "    'AB-' : [{'Donate to' : ['AB+', 'AB-'],\n",
    "              'Accept from' : ['AB-', 'A-', 'B-', 'O-']}],\n",
    "    'B+' : [{'Donate to' : ['B+', 'AB+'],\n",
    "             'Accept from' : ['B+', 'B-', 'O+', 'O-']}],\n",
    "    'B-' : [{'Donate to' : ['B+', 'B-', 'AB+', 'AB-'],\n",
    "             'Accept from' : ['B-', 'O-']}],\n",
    "    'O+' : [{'Donate to' : ['O+', 'A+', 'B+', 'AB+'],\n",
    "             'Accept from' : ['O+', 'O-']}],\n",
    "    'O-' : [{'Donate to' : ['A+', 'A-', 'B+', 'B-', 'AB+', 'AB-', 'O+', 'O-'],\n",
    "             'Accept from' : ['O-']}]\n",
    "}\n",
    "n = input(\"Enter a Blood Group : \").strip().upper()\n",
    "if n in dict:\n",
    "    value = dict.get(n)\n",
    "    print(value)\n",
    "else:\n",
    "    print(\"Enter Correct Blood Group\")"
   ]
  },
  {
   "cell_type": "code",
   "execution_count": null,
   "metadata": {
    "collapsed": true
   },
   "outputs": [],
   "source": []
  }
 ],
 "metadata": {
  "kernelspec": {
   "display_name": "Python 3",
   "language": "python",
   "name": "python3"
  },
  "language_info": {
   "codemirror_mode": {
    "name": "ipython",
    "version": 3
   },
   "file_extension": ".py",
   "mimetype": "text/x-python",
   "name": "python",
   "nbconvert_exporter": "python",
   "pygments_lexer": "ipython3",
   "version": "3.6.3"
  }
 },
 "nbformat": 4,
 "nbformat_minor": 2
}
