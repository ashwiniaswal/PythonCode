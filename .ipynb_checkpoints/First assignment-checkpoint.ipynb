{
 "cells": [
  {
   "cell_type": "code",
   "execution_count": 1,
   "metadata": {},
   "outputs": [
    {
     "name": "stdout",
     "output_type": "stream",
     "text": [
      "Here is Integer  5 tyoe of x is  <class 'int'>\n",
      "Here is Float  6.7 type of y is  <class 'float'>\n",
      "Here is Complex  (4+5j) type of z is <class 'complex'>\n",
      "Here is String  Python type of name is  <class 'str'>\n"
     ]
    }
   ],
   "source": [
    "x = 5\n",
    "y = 6.7\n",
    "z = 4+5j\n",
    "name = \"Python\"\n",
    "print(\"Here is Integer \",x,\"tyoe of x is \",type(x))\n",
    "print(\"Here is Float \",y,\"type of y is \",type(y))\n",
    "print(\"Here is Complex \",z,\"type of z is\",type(z))\n",
    "print(\"Here is String \",name,\"type of name is \",type(name))"
   ]
  },
  {
   "cell_type": "code",
   "execution_count": null,
   "metadata": {
    "collapsed": true
   },
   "outputs": [],
   "source": [
    "print('He said,\"India is a rising country\"')\n",
    "para = \"\"\"\n",
    "This is line 1.\n",
    "This is line2.\n",
    "    this is para changes.\n",
    "see it.\n",
    "\"\"\"\n",
    "print(para)"
   ]
  },
  {
   "cell_type": "code",
   "execution_count": 4,
   "metadata": {},
   "outputs": [
    {
     "name": "stdout",
     "output_type": "stream",
     "text": [
      "[1, 2, 3]\n",
      "[1.6, 3.14, 6.2]\n",
      "['hello', 'hi', 'bye']\n",
      "[1, 3.14, (4+5j), 'python', [1, 2, 3]]\n",
      "1 2 3\n"
     ]
    }
   ],
   "source": [
    "list1 = [1,2,3]\n",
    "list2 = [1.6,3.14,6.2]\n",
    "list3 = ['hello','hi','bye']\n",
    "list4 = [1,3.14,4+5j,'python',[1,2,3]]\n",
    "print(list1)\n",
    "print(list2)\n",
    "print(list3)\n",
    "print(list4)\n",
    "print(*list1)"
   ]
  },
  {
   "cell_type": "code",
   "execution_count": 5,
   "metadata": {},
   "outputs": [
    {
     "name": "stdout",
     "output_type": "stream",
     "text": [
      "15 = 15\n",
      "86 = 86\n",
      "12 = 12\n"
     ]
    }
   ],
   "source": [
    "mylist = [ 36, 24, 15, 12, 86 ]\n",
    "print(mylist[2],\"=\",mylist[-3])\n",
    "print(mylist[4],\"=\",mylist[-1])\n",
    "print(mylist[3],\"=\",mylist[-2])"
   ]
  },
  {
   "cell_type": "code",
   "execution_count": 9,
   "metadata": {},
   "outputs": [
    {
     "name": "stdout",
     "output_type": "stream",
     "text": [
      "hello world\n",
      "good to go\n",
      "python is good language\n",
      "9.14\n"
     ]
    }
   ],
   "source": [
    "mylist = [ 'hello world', 3.14,'python is good language',1,2,3,'good to go']\n",
    "print(mylist[0])\n",
    "print(mylist[-1])\n",
    "print(mylist[2])\n",
    "sum = mylist[1]+mylist[-2]+mylist[3]+mylist[-3]\n",
    "print(sum)"
   ]
  },
  {
   "cell_type": "code",
   "execution_count": 10,
   "metadata": {},
   "outputs": [
    {
     "name": "stdout",
     "output_type": "stream",
     "text": [
      "['python', 'c', 'c++', 'java', 'perl', 'ruby', 'swift']\n",
      "['python', 'c', 'c++', 'java', 'perl', 'ruby', 'php']\n",
      "['python', 'c', '.NET', 'java', 'perl', 'ruby', 'php']\n",
      "['java', 'perl', 'ruby']\n",
      "['python', 'c', '.NET', 'java', 'perl', 'ruby', 'php']\n",
      "['java', 'perl', 'ruby', 'php']\n",
      "['python', 'c', '.NET', 'java']\n",
      "['.NET', 'ruby']\n"
     ]
    }
   ],
   "source": [
    "mylist = [ 'python','c','c++','java','perl','ruby','swift']\n",
    "length = len(mylist)\n",
    "print(mylist)\n",
    "mylist[length-1] = 'php'\n",
    "print(mylist)\n",
    "mylist[2] = '.NET'\n",
    "print(mylist)\n",
    "print(mylist[3:6])\n",
    "print(mylist[:])\n",
    "print(mylist[3:])\n",
    "print(mylist[:4])\n",
    "print(mylist[2:6:3])"
   ]
  },
  {
   "cell_type": "code",
   "execution_count": 12,
   "metadata": {},
   "outputs": [
    {
     "name": "stdout",
     "output_type": "stream",
     "text": [
      "[30, 443, 8, 4]\n",
      "[40, 10, 20, 30, 41, 55, 66, 443, 22, 3, 7, 8, 9, 12, 34, 4, 65]\n",
      "[65, 4, 34, 12, 9, 8, 7, 3, 22, 443, 66, 55, 41, 30, 20, 10, 40]\n",
      "['__add__', '__class__', '__contains__', '__delattr__', '__delitem__', '__dir__', '__doc__', '__eq__', '__format__', '__ge__', '__getattribute__', '__getitem__', '__gt__', '__hash__', '__iadd__', '__imul__', '__init__', '__init_subclass__', '__iter__', '__le__', '__len__', '__lt__', '__mul__', '__ne__', '__new__', '__reduce__', '__reduce_ex__', '__repr__', '__reversed__', '__rmul__', '__setattr__', '__setitem__', '__sizeof__', '__str__', '__subclasshook__', 'append', 'clear', 'copy', 'count', 'extend', 'index', 'insert', 'pop', 'remove', 'reverse', 'sort']\n"
     ]
    }
   ],
   "source": [
    "l = [40,10,20,30,41,55,66,443,22,3,7,8,9,12,34,4,65]\n",
    "print(l[3:17:4])\n",
    "print(l[:])\n",
    "print(l[::-1])\n",
    "print(dir(l))"
   ]
  },
  {
   "cell_type": "code",
   "execution_count": 13,
   "metadata": {},
   "outputs": [
    {
     "name": "stdout",
     "output_type": "stream",
     "text": [
      "['hi', 'i', 'am', 'a', 'list']\n",
      "hi\n",
      "list\n",
      "list\n",
      "['hi', 'i', 'am', 'a', 'list']\n",
      "['a', 'list']\n",
      "['hi', 'i', 'am', 'a']\n",
      "['hi', 'am', 'list']\n",
      "['am']\n",
      "['list', 'a', 'am', 'i', 'hi']\n",
      "['hi', 'am']\n"
     ]
    }
   ],
   "source": [
    "l = ['hi','i','am','a','list']\n",
    "print(l)\n",
    "print(l[0])\n",
    "print(l[-1])\n",
    "print(l[4])\n",
    "print(l[:])\n",
    "print(l[3:5])\n",
    "print(l[:4])\n",
    "print(l[::2])\n",
    "print(l[2:5:3])\n",
    "print(l[::-1])\n",
    "print(l[-5:-1:2])"
   ]
  },
  {
   "cell_type": "code",
   "execution_count": 25,
   "metadata": {},
   "outputs": [
    {
     "name": "stdout",
     "output_type": "stream",
     "text": [
      "12 10 5 7 3 54 68 54 2\n",
      "[5, 54, 2]\n",
      "[2, 54, 68, 54, 3, 7, 5, 10, 12]\n",
      "12 10 5 7 6 3 54 68 54 2 23 46\n",
      "2\n",
      "10\n",
      "10 5 7 3 54 68 54 2 23 46\n",
      "[46, 23, 2, 54, 68, 54, 5, 10]\n",
      "3\n",
      "[68, 54, 54, 46, 23, 10, 5, 2]\n"
     ]
    }
   ],
   "source": [
    "l = [12,10,5,7,3,54,68,54,2]\n",
    "print(*l); print(l[2::3]); print(l[::-1])\n",
    "l.append(23); l.append(46); l.insert(4,6)\n",
    "print(*l)\n",
    "l.extend('helllo'); l.pop();l.pop()\n",
    "print(l.count('l'))\n",
    "l.pop();l.pop();l.pop();l.pop()\n",
    "print(l.index(23)); l.pop(4); l.pop(0)\n",
    "print(*l)\n",
    "l.remove(7); l.remove(3)#remove(item)\n",
    "l.reverse()\n",
    "print(l)\n",
    "print(l.index(54))#only First index will be printed\n",
    "l.sort(reverse=True)\n",
    "print(l)"
   ]
  },
  {
   "cell_type": "code",
   "execution_count": 18,
   "metadata": {},
   "outputs": [
    {
     "name": "stdout",
     "output_type": "stream",
     "text": [
      "[1, 2, 4, 5]\n"
     ]
    }
   ],
   "source": [
    "l = [1,2,4,5,45]\n",
    "l.remove(45)#remove(item)\n",
    "print(l)"
   ]
  },
  {
   "cell_type": "code",
   "execution_count": 37,
   "metadata": {},
   "outputs": [
    {
     "name": "stdout",
     "output_type": "stream",
     "text": [
      "Enter two words with space: name ash\n",
      "['name', 'ash']\n"
     ]
    }
   ],
   "source": [
    "l = input(\"Enter two words with space: \")\n",
    "x = l.split()\n",
    "print(x)"
   ]
  },
  {
   "cell_type": "code",
   "execution_count": 38,
   "metadata": {},
   "outputs": [
    {
     "name": "stdout",
     "output_type": "stream",
     "text": [
      "{'name': 'Python', 'age': '30', 'Type': 'proagrammimg language'}\n",
      "Python\n",
      "Type = proagrammimg language\n"
     ]
    }
   ],
   "source": [
    "info = { 'name':\"Python\",\"age\":\"30\",\"Type\":\"proagrammimg language\"}\n",
    "print(info)\n",
    "print(info['name'])\n",
    "print(\"Type =\",info['Type'])"
   ]
  },
  {
   "cell_type": "code",
   "execution_count": 40,
   "metadata": {},
   "outputs": [
    {
     "name": "stdout",
     "output_type": "stream",
     "text": [
      "11259375\n",
      "Type of X :  <class 'str'>\n",
      "Type of Y :  <class 'int'>\n",
      "X = ABCDEF\n",
      "Y = 11259375\n",
      "Enter a no :1234\n",
      "Type of x\n",
      "X = 4660\n"
     ]
    }
   ],
   "source": [
    "x = 'ABCDEF'\n",
    "y = int(x,16)\n",
    "print(y)\n",
    "print(\"Type of X : \",type(x))\n",
    "print(\"Type of Y : \",type(y))\n",
    "print(\"X =\",x)\n",
    "print(\"Y =\",y)\n",
    "x = int(input(\"Enter a no :\"),16)\n",
    "print(\"Type of x\")\n",
    "print(\"X =\",x)"
   ]
  },
  {
   "cell_type": "code",
   "execution_count": 9,
   "metadata": {},
   "outputs": [
    {
     "name": "stdout",
     "output_type": "stream",
     "text": [
      "String =  something\n",
      "List of String =  ['s', 'o', 'm', 'e', 't', 'h', 'i', 'n', 'g']\n",
      "Tuple =  (1, 'hello', 'how', 3, 4)\n",
      "List of Tuple =  [1, 'hello', 'how', 3, 4]\n",
      "Dictionary =  {'one': 1, 'two': 2, 'three': 3, 'four': 4}\n",
      "List of Keys Dictionary =  ['one', 'two', 'three', 'four']\n",
      "Set =  {1, 2, 3, 'hello', 'world'}\n",
      "List of Set =  [1, 2, 3, 'hello', 'world']\n"
     ]
    }
   ],
   "source": [
    "my_string = 'something'\n",
    "my_list = list(my_string)\n",
    "print(\"String = \",my_string)\n",
    "print(\"List of String = \",my_list)\n",
    "my_tuple = (1,'hello','how',3,4)\n",
    "my_list = list(my_tuple)\n",
    "print(\"Tuple = \",my_tuple)\n",
    "print(\"List of Tuple = \",my_list)\n",
    "my_dict = { 'one':1,'two':2,'three':3,'four':4 }\n",
    "my_list = list(my_dict)\n",
    "print(\"Dictionary = \",my_dict)\n",
    "print(\"List of Keys Dictionary = \",my_list)\n",
    "my_set = {1,2,3,'hello','world'}\n",
    "my_list = list(my_set)\n",
    "print(\"Set = \",my_set)\n",
    "print(\"List of Set = \",my_list)"
   ]
  },
  {
   "cell_type": "code",
   "execution_count": 10,
   "metadata": {},
   "outputs": [
    {
     "name": "stdout",
     "output_type": "stream",
     "text": [
      "List = [('one', 1), ('two', 2), ('three', 3), ('four', 4), ('five', 5)]\n",
      "Dictionary of the List = {'one': 1, 'two': 2, 'three': 3, 'four': 4, 'five': 5}\n"
     ]
    }
   ],
   "source": [
    "my_list = [('one',1),('two',2),('three',3),('four',4),('five',5)]\n",
    "my_dict = dict(my_list)\n",
    "print(\"List =\",my_list)\n",
    "print(\"Dictionary of the List =\",my_dict)"
   ]
  },
  {
   "cell_type": "code",
   "execution_count": 2,
   "metadata": {},
   "outputs": [
    {
     "name": "stdout",
     "output_type": "stream",
     "text": [
      "Enter four phrases of two words with a space in one line :Name Ash Gender Female Profession Student Language Hindi Country India\n",
      "Type of list we have created  <class 'str'>\n",
      "Here is your list ['Name', 'Ash', 'Gender', 'Female', 'Profession', 'Student', 'Language', 'Hindi', 'Country', 'India'] ['Name', 'Ash', 'Gender', 'Female', 'Profession', 'Student', 'Language', 'Hindi', 'Country', 'India'] ['Name', 'Ash', 'Gender', 'Female', 'Profession', 'Student', 'Language', 'Hindi', 'Country', 'India'] ['Name', 'Ash', 'Gender', 'Female', 'Profession', 'Student', 'Language', 'Hindi', 'Country', 'India'] ['Name', 'Ash', 'Gender', 'Female', 'Profession', 'Student', 'Language', 'Hindi', 'Country', 'India']\n"
     ]
    }
   ],
   "source": [
    "l = input(\"Enter four phrases of two words with a space in one line :\")\n",
    "one,two,three,four,five = l.split(),l.split(),l.split(),l.split(),l.split()\n",
    "print(\"Type of list we have created \",type(l))\n",
    "print(\"Here is your list\", one,two,three,four,five)"
   ]
  },
  {
   "cell_type": "code",
   "execution_count": 1,
   "metadata": {},
   "outputs": [
    {
     "name": "stdout",
     "output_type": "stream",
     "text": [
      "name ash\n",
      "gender female\n",
      "profession student\n",
      "language hindi\n",
      "country india\n",
      "Type of list we have created :  <class 'list'>\n",
      "Here is your list :  [['name', 'ash'], ['gender', 'female'], ['profession', 'student'], ['language', 'hindi'], ['country', 'india']]\n",
      "Here is your result as Dictionary :  {'name': 'ash', 'gender': 'female', 'profession': 'student', 'language': 'hindi', 'country': 'india'}\n"
     ]
    }
   ],
   "source": [
    "l = []\n",
    "one,two,three,four,five = input().split(),input().split(),input().split(),input().split(),input().split()\n",
    "l.append(one);l.append(two);l.append(three);l.append(four);l.append(five)\n",
    "print(\"Type of list we have created : \",type(l))\n",
    "print(\"Here is your list : \",l)\n",
    "d = dict(l)\n",
    "print(\"Here is your result as Dictionary : \",d)"
   ]
  }
 ],
 "metadata": {
  "kernelspec": {
   "display_name": "Python 3",
   "language": "python",
   "name": "python3"
  },
  "language_info": {
   "codemirror_mode": {
    "name": "ipython",
    "version": 3
   },
   "file_extension": ".py",
   "mimetype": "text/x-python",
   "name": "python",
   "nbconvert_exporter": "python",
   "pygments_lexer": "ipython3",
   "version": "3.6.3"
  }
 },
 "nbformat": 4,
 "nbformat_minor": 2
}
