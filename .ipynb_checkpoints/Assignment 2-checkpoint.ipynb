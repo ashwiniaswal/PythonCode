{
 "cells": [
  {
   "cell_type": "markdown",
   "metadata": {},
   "source": [
    "# Palindrome"
   ]
  },
  {
   "cell_type": "code",
   "execution_count": null,
   "metadata": {},
   "outputs": [
    {
     "name": "stdout",
     "output_type": "stream",
     "text": [
      "Enter a word to check whether it is Palindrome or not : 123454321\n"
     ]
    }
   ],
   "source": [
    "#for number\n",
    "n = int(input(\"Enter a word to check whether it is Palindrome or not : \"))\n",
    "temp = n\n",
    "rev = 0\n",
    "while n > 0:\n",
    "    dig = temp % 10      #remainder\n",
    "    rev = rev * 10 + dig\n",
    "    temp = temp // 10       #integer value of quotient\n",
    "if(temp == rev):\n",
    "    print(\"Word is Palindrome\")\n",
    "else:\n",
    "    print(\"Word is not Palindrome\")"
   ]
  },
  {
   "cell_type": "code",
   "execution_count": 9,
   "metadata": {},
   "outputs": [
    {
     "name": "stdout",
     "output_type": "stream",
     "text": [
      "7\n"
     ]
    }
   ],
   "source": [
    "x = 757%10\n",
    "print(x)"
   ]
  },
  {
   "cell_type": "code",
   "execution_count": 22,
   "metadata": {},
   "outputs": [
    {
     "name": "stdout",
     "output_type": "stream",
     "text": [
      "Enter a word : ash\n",
      "Not Palindrome\n"
     ]
    }
   ],
   "source": [
    "#for string\n",
    "x = input(\"Enter a word to check Palindrome : \")\n",
    "temp = x\n",
    "y = x[::-1]\n",
    "if temp == y:\n",
    "    print(\"Word is palindrome\")\n",
    "else:\n",
    "    print(\"Not Palindrome\")"
   ]
  },
  {
   "cell_type": "markdown",
   "metadata": {},
   "source": [
    "# Armstrong"
   ]
  },
  {
   "cell_type": "code",
   "execution_count": 23,
   "metadata": {},
   "outputs": [
    {
     "name": "stdout",
     "output_type": "stream",
     "text": [
      "Enter a number to check whether it Armstrong or not : 407\n",
      "Number is Armstrong\n"
     ]
    }
   ],
   "source": [
    "n = int(input(\"Enter a number to check whether it Armstrong or not : \"))\n",
    "x = len(str(n))\n",
    "temp = n\n",
    "sum = 0\n",
    "while temp > 0:\n",
    "    dig = temp % 10\n",
    "    sum = sum + dig ** x\n",
    "    temp = temp // 10\n",
    "if temp == sum:\n",
    "    print(\"Number is Armstrong\")\n",
    "else:\n",
    "    print(\"Number is not Armstrong\")"
   ]
  },
  {
   "cell_type": "code",
   "execution_count": 1,
   "metadata": {},
   "outputs": [
    {
     "name": "stdout",
     "output_type": "stream",
     "text": [
      "Enter a number to check whether it is prime or not : 12\n"
     ]
    }
   ],
   "source": [
    "n = int(input(\"Enter a number to check whether it is prime or not : \"))\n"
   ]
  },
  {
   "cell_type": "code",
   "execution_count": 3,
   "metadata": {},
   "outputs": [
    {
     "name": "stdout",
     "output_type": "stream",
     "text": [
      "Enter a number to check whether it is prime or not : 6\n"
     ]
    }
   ],
   "source": [
    "n = int(input(\"Enter a number to check whether it is prime or not : \"))\n",
    "temp = n\n",
    "i = 2\n",
    "x = 0\n",
    "while n > temp:\n",
    "    if n % i == 0:\n",
    "        x = 1\n",
    "        print(\"Number is Prime\")\n",
    "    else:\n",
    "        print(\"not prime\")"
   ]
  },
  {
   "cell_type": "markdown",
   "metadata": {
    "collapsed": true
   },
   "source": [
    "# Prime Number"
   ]
  },
  {
   "cell_type": "code",
   "execution_count": 1,
   "metadata": {},
   "outputs": [
    {
     "name": "stdout",
     "output_type": "stream",
     "text": [
      "Enter a number : 109879126\n",
      "Not Prime\n"
     ]
    }
   ],
   "source": [
    "num = int(input(\"Enter a number : \"))\n",
    "if num <= 1:\n",
    "    print(\"Not Prime\")\n",
    "    print(\"Error! This is not valid input to check prime\")\n",
    "    exit(0)\n",
    "elif num <= 3:\n",
    "    print(\"Prime\")\n",
    "    exit(0)\n",
    "check = 2\n",
    "while check <= num - 1:\n",
    "    k = num % check\n",
    "    if k == 0:\n",
    "        print(\"Not Prime\")\n",
    "        break\n",
    "    elif check == num - 1:\n",
    "        print(\"Prime\")\n",
    "    check = check + 1"
   ]
  },
  {
   "cell_type": "code",
   "execution_count": 3,
   "metadata": {},
   "outputs": [
    {
     "name": "stdout",
     "output_type": "stream",
     "text": [
      "Enter a number to check whether it is prime or not : 25\n",
      "   25\t/    2\t=   12\t,1\n",
      "   25\t/    3\t=    8\t,1\n",
      "   25\t/    4\t=    6\t,1\n",
      "   25\t/    5\t=    5\t,0\n",
      "   25\t/    6\t=    4\t,1\n",
      "   25\t/    7\t=    3\t,4\n",
      "   25\t/    8\t=    3\t,1\n",
      "   25\t/    9\t=    2\t,7\n",
      "   25\t/   10\t=    2\t,5\n",
      "   25\t/   11\t=    2\t,3\n",
      "   25\t/   12\t=    2\t,1\n",
      "   25\t/   13\t=    1\t,12\n",
      "   25\t/   14\t=    1\t,11\n",
      "   25\t/   15\t=    1\t,10\n",
      "   25\t/   16\t=    1\t,9\n",
      "   25\t/   17\t=    1\t,8\n",
      "   25\t/   18\t=    1\t,7\n",
      "   25\t/   19\t=    1\t,6\n",
      "   25\t/   20\t=    1\t,5\n",
      "   25\t/   21\t=    1\t,4\n",
      "   25\t/   22\t=    1\t,3\n",
      "   25\t/   23\t=    1\t,2\n",
      "   25\t/   24\t=    1\t,1\n"
     ]
    }
   ],
   "source": [
    "num = int(input(\"Enter a number to check whether it is prime or not : \"))\n",
    "c = 2\n",
    "while c <= num - 1:\n",
    "    print(\"{:5}\\t/{:5}\\t={:5}\\t,{}\".format(num,c,num//c,num%c))\n",
    "    c = c + 1"
   ]
  },
  {
   "cell_type": "code",
   "execution_count": 4,
   "metadata": {},
   "outputs": [
    {
     "name": "stdout",
     "output_type": "stream",
     "text": [
      "Enter a number to find whether it is prime or not : 127\n",
      "Prime\n"
     ]
    }
   ],
   "source": [
    "num = int(input(\"Enter a number to find whether it is prime or not : \"))\n",
    "if num <= 1:\n",
    "    print(\"NOt Prime\")\n",
    "    print(\"Error! This is not valid input to check prime\")\n",
    "    exit(0)\n",
    "elif num <= 3:\n",
    "    print(\"Prime\")\n",
    "    exit(0)\n",
    "check = 2\n",
    "while check <= num // 2 + 1:\n",
    "    k = num % check\n",
    "    if k == 0:\n",
    "        print(\"Not Prime\")\n",
    "        break\n",
    "    elif check == num // 2 + 1:\n",
    "        print(\"Prime\")\n",
    "    check = check + 1"
   ]
  },
  {
   "cell_type": "code",
   "execution_count": 6,
   "metadata": {},
   "outputs": [
    {
     "name": "stdout",
     "output_type": "stream",
     "text": [
      "Enter a number to check whether it is prime or not : 2346368576894673\n",
      "Not Prime\n"
     ]
    }
   ],
   "source": [
    "num = int(input(\"Enter a number to check whether it is prime or not : \"))\n",
    "if num <= 1:\n",
    "    print(\"Not Prime\")\n",
    "    print(\"Error! Ths is not valid input to check prime\")\n",
    "    exit(0)\n",
    "elif num <= 3:\n",
    "    print(\"Prime\")\n",
    "    exit(0)\n",
    "check = 2\n",
    "import math\n",
    "sq = math.sqrt(num)\n",
    "sq = int(sq) + 1\n",
    "while check <= sq:\n",
    "    k = num % check\n",
    "    if k == 0:\n",
    "        print(\"Not Prime\")\n",
    "        break\n",
    "    elif check == sq:\n",
    "        print(\"Prime\")\n",
    "    check = check + 1"
   ]
  },
  {
   "cell_type": "code",
   "execution_count": 9,
   "metadata": {},
   "outputs": [
    {
     "name": "stdout",
     "output_type": "stream",
     "text": [
      "Enter the starting point : 1\n",
      "Enter the ending point : 100\n",
      "1\t2\t3\t3\t5\t7\t11\t13\t17\t19\t23\t29\t31\t37\t41\t43\t47\t53\t59\t61\t67\t71\t73\t79\t83\t89\t97\t"
     ]
    }
   ],
   "source": [
    "s = int(input(\"Enter the starting point : \"))\n",
    "e = int(input(\"Enter the ending point : \"))\n",
    "import math\n",
    "while s <= e:\n",
    "    num = s\n",
    "    if num <= 1:\n",
    "        exit(0)\n",
    "    elif num <= 3:\n",
    "        print(num,end='\\t')\n",
    "        exit(0)\n",
    "    check = 2\n",
    "    sq = math.sqrt(num)\n",
    "    sq = int(sq) + 1\n",
    "    while check <= sq:\n",
    "        k = num % check\n",
    "        if k == 0:\n",
    "            break\n",
    "        elif check == sq:\n",
    "            print(num,end='\\t')\n",
    "        check = check + 1\n",
    "    s = s + 1"
   ]
  },
  {
   "cell_type": "code",
   "execution_count": 1,
   "metadata": {
    "scrolled": true
   },
   "outputs": [
    {
     "name": "stdout",
     "output_type": "stream",
     "text": [
      "Do you want to roll again : 1\n",
      "Score :  5\n",
      "Do you want to roll again : 2\n",
      "Score :  1\n",
      "Do you want to roll again : 3\n",
      "Score :  2\n",
      "Do you want to roll again : 4\n",
      "Score :  6\n",
      "Do you want to roll again : 5\n",
      "Score :  4\n",
      "Do you want to roll again : 6\n",
      "Score :  2\n",
      "Do you want to roll again : 7\n",
      "Score :  3\n",
      "Do you want to roll again : 8\n",
      "Score :  2\n",
      "Do you want to roll again : \n"
     ]
    }
   ],
   "source": [
    "from random import randrange\n",
    "while input(\"Do you want to roll again : \"):\n",
    "    print(\"Score : \",randrange(1,7))"
   ]
  },
  {
   "cell_type": "markdown",
   "metadata": {},
   "source": [
    "# Pattern"
   ]
  },
  {
   "cell_type": "code",
   "execution_count": 8,
   "metadata": {},
   "outputs": [
    {
     "name": "stdout",
     "output_type": "stream",
     "text": [
      "Enter the range of the pattern  you want : 10\n",
      "**********\n",
      "*********\n",
      "********\n",
      "*******\n",
      "******\n"
     ]
    }
   ],
   "source": [
    "x = int(input(\"Enter the range of the pattern you want : \"))\n",
    "c = 1\n",
    "while c <= x:\n",
    "    print('*'*x)\n",
    "    x = x - 1\n",
    "    c = c + 1"
   ]
  },
  {
   "cell_type": "code",
   "execution_count": 11,
   "metadata": {},
   "outputs": [
    {
     "name": "stdout",
     "output_type": "stream",
     "text": [
      "Enter a number : 10\n",
      "* * * * * * * * * \n",
      "* * * * * * * * \n",
      "* * * * * * * \n",
      "* * * * * * \n",
      "* * * * * \n",
      "* * * * \n",
      "* * * \n",
      "* * \n",
      "* \n"
     ]
    }
   ],
   "source": [
    "i = int(input(\"Enter a number : \"))\n",
    "for var in range(i,1,-1):\n",
    "    for j in range(1,var):\n",
    "        print(\"*\",end=' ')\n",
    "    print()"
   ]
  },
  {
   "cell_type": "code",
   "execution_count": null,
   "metadata": {
    "collapsed": true
   },
   "outputs": [],
   "source": [
    "h = int(input(\"Enter the height of the triangle in centimeters = \"))\n",
    "w = int(input(\"Enter the width of the base of the triangle in centimeters = \"))\n",
    "while True:\n",
    "    a = input(\"Are the dimensions in centimeters? (y/n) : \").strip().lower()\n",
    "    if ch == y:\n",
    "        print(\"Using formula = (height x width)/2 we get = ({}x{})/2 = {}centimeters square\".format(h,w,h*w/2))\n",
    "    elif ch == n:\n",
    "        x = input(\"If height is in meters enter 'hm', if height is in kilmeters enter 'hk' if width is in meters enter 'wm' if width is in kilometers enter 'wk'\").strip().lower()\n",
    "        if x == hm or x == wm:\n",
    "            l = int(input(\"Enter the value = \")).strip()\n",
    "            m = print(\"Your value in centimeter = {}\".format(l*100))\n",
    "        elif x == hk or x == wk:\n",
    "            l = int(input(\"Enter the value = \")).strip()\n",
    "            k = print(\"Your value in centimeter = {}\".format(l*1000))\n",
    "        else:\n",
    "            print(\"Invalid input\")\n",
    "    else:\n",
    "        print(\"Invalid input\")"
   ]
  }
 ],
 "metadata": {
  "kernelspec": {
   "display_name": "Python 3",
   "language": "python",
   "name": "python3"
  },
  "language_info": {
   "codemirror_mode": {
    "name": "ipython",
    "version": 3
   },
   "file_extension": ".py",
   "mimetype": "text/x-python",
   "name": "python",
   "nbconvert_exporter": "python",
   "pygments_lexer": "ipython3",
   "version": "3.6.3"
  }
 },
 "nbformat": 4,
 "nbformat_minor": 2
}
