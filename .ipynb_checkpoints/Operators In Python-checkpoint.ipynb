{
 "cells": [
  {
   "cell_type": "markdown",
   "metadata": {},
   "source": [
    "# Operators In Python"
   ]
  },
  {
   "cell_type": "raw",
   "metadata": {},
   "source": [
    "Arithematic Operators\n",
    "Comparsion Operators\n",
    "Logical Operators\n",
    "Assignment Operators\n",
    "Binary Operators\n",
    "Identity Operators\n",
    "Membership Operators"
   ]
  },
  {
   "cell_type": "markdown",
   "metadata": {},
   "source": [
    "# Arithematic Operators"
   ]
  },
  {
   "cell_type": "raw",
   "metadata": {},
   "source": [
    "Addition Operator (+)\n",
    "Substraction Operator (-)\n",
    "Multiplication Operators (*)\n",
    "Division Operator (/)\n",
    "Modulas Operator (%)\n",
    "Floor Operator (//)\n",
    "Exponent Operato (**)"
   ]
  },
  {
   "cell_type": "code",
   "execution_count": 3,
   "metadata": {},
   "outputs": [
    {
     "name": "stdout",
     "output_type": "stream",
     "text": [
      "Addition of 10 and 3 is 13\n",
      "hello world\n",
      "[4, 5, 6, 1, 2, 3]\n",
      "[1, 2, 3, 4, 5, 6]\n",
      "('one', 'two', 'three', 'four', 'five', 'six')\n"
     ]
    },
    {
     "data": {
      "text/plain": [
       "'Sets can not be processed by arithematic operators\\ns1 = {1,2,3}\\ns2 = {4,5,6}\\nprint(s1 + s2)\\n'"
      ]
     },
     "execution_count": 3,
     "metadata": {},
     "output_type": "execute_result"
    }
   ],
   "source": [
    "#Addition Operator\n",
    "x = 10\n",
    "y = 3\n",
    "z = x + y\n",
    "print(\"Addition of {} and {} is {}\".format(x,y,z))\n",
    "x = 'hello '\n",
    "y = 'world'\n",
    "print(x + y)\n",
    "l1 = [1,2,3]\n",
    "l2 = [4,5,6]\n",
    "print(l2 + l1)\n",
    "print(l1 + l2)\n",
    "t1 = ('one', 'two', 'three')\n",
    "t2 = ('four', 'five', 'six')\n",
    "print(t1 + t2)\n",
    "'''Dictionary can not be processed by arithematic operators\n",
    "d = {1:'one',2:'two'}\n",
    "d1 = {3:'three',4:'four'}\n",
    "print(d+d1)\n",
    "'''\n",
    "\"\"\"Sets can not be processed by arithematic operators\n",
    "s1 = {1,2,3}\n",
    "s2 = {4,5,6}\n",
    "print(s1 + s2)\n",
    "\"\"\""
   ]
  },
  {
   "cell_type": "code",
   "execution_count": 6,
   "metadata": {},
   "outputs": [
    {
     "name": "stdout",
     "output_type": "stream",
     "text": [
      "-40\n"
     ]
    }
   ],
   "source": [
    "#Substraction Operator\n",
    "x = 10\n",
    "y = 50\n",
    "print(x-y)\n",
    "#s = 'hello'\n",
    "#l = 'world'\n",
    "#print(s - 1)\n",
    "#l1 = [1,2,3]\n",
    "#l2 = [4,5,6]\n",
    "#print(l1-l2)"
   ]
  },
  {
   "cell_type": "code",
   "execution_count": 11,
   "metadata": {},
   "outputs": [
    {
     "name": "stdout",
     "output_type": "stream",
     "text": [
      "1060\n",
      "Hello_World Hello_World Hello_World \n",
      "Hi Hi Hi Hi Hi \n",
      "[1, 2, 3, 1, 2, 3, 1, 2, 3]\n"
     ]
    }
   ],
   "source": [
    "#Multiplication Operator\n",
    "x = 53\n",
    "y = 20\n",
    "print(x*y)\n",
    "s = 'Hello_World '\n",
    "k = 'Hi '\n",
    "#print(s*k)\n",
    "print(3*s)\n",
    "print(k*5)\n",
    "l1 = [1,2,3]\n",
    "#l2 = [4,5,6]\n",
    "#print(l1*l2)\n",
    "print(l1*3)"
   ]
  },
  {
   "cell_type": "code",
   "execution_count": 12,
   "metadata": {},
   "outputs": [
    {
     "name": "stdout",
     "output_type": "stream",
     "text": [
      "4.416666666666667\n",
      "5\n",
      "4\n"
     ]
    }
   ],
   "source": [
    "#Division Operator\n",
    "x = 53\n",
    "y = 12\n",
    "print(x/y) #Absolute Division\n",
    "print(x%y) #Remainder\n",
    "print(x//y) #Quotient or the integer value of quotient"
   ]
  },
  {
   "cell_type": "code",
   "execution_count": 13,
   "metadata": {},
   "outputs": [
    {
     "name": "stdout",
     "output_type": "stream",
     "text": [
      "125\n"
     ]
    }
   ],
   "source": [
    "#Exponent\n",
    "x = 5\n",
    "y = 3\n",
    "print(x**y)"
   ]
  },
  {
   "cell_type": "markdown",
   "metadata": {},
   "source": [
    "# Comparision Operators"
   ]
  },
  {
   "cell_type": "raw",
   "metadata": {},
   "source": [
    "Less Than (<)\n",
    "Less Than Equal To (<=)\n",
    "Greater Than(>)\n",
    "Greater Than Equal To(>=)\n",
    "Equals To Equal(==)\n",
    "Not Equal To(!=)"
   ]
  },
  {
   "cell_type": "code",
   "execution_count": 14,
   "metadata": {},
   "outputs": [
    {
     "name": "stdout",
     "output_type": "stream",
     "text": [
      "6 < 8 True\n",
      "8 < 6 False\n",
      "6 <= 6 True\n",
      "6 <= 3 False\n",
      "5 > 6 False\n",
      "6 > 5 True\n",
      "6 >= 6 True\n",
      "6 >= 5 True\n",
      "6 == 6 True\n",
      "6 == 7 False\n",
      "6 != 7 True\n",
      "6 != 6 False\n"
     ]
    }
   ],
   "source": [
    "print(\"6 < 8\", 6 < 8)\n",
    "print(\"8 < 6\", 8 < 6)\n",
    "print(\"6 <= 6\", 6 <= 6)\n",
    "print(\"6 <= 3\", 6 <= 3)\n",
    "print(\"5 > 6\", 5 > 6)\n",
    "print(\"6 > 5\", 6 > 5)\n",
    "print(\"6 >= 6\", 6 >= 6)\n",
    "print(\"6 >= 5\", 6 >= 5)\n",
    "print(\"6 == 6\", 6 == 6)\n",
    "print(\"6 == 7\", 6 == 7)\n",
    "print(\"6 != 7\", 6 != 7)\n",
    "print(\"6 != 6\", 6 != 6)"
   ]
  },
  {
   "cell_type": "markdown",
   "metadata": {},
   "source": [
    "# Logical Operators"
   ]
  },
  {
   "cell_type": "raw",
   "metadata": {},
   "source": [
    "and\n",
    "or\n",
    "not"
   ]
  },
  {
   "cell_type": "code",
   "execution_count": 15,
   "metadata": {},
   "outputs": [
    {
     "name": "stdout",
     "output_type": "stream",
     "text": [
      "0\n",
      "False\n",
      "False\n"
     ]
    }
   ],
   "source": [
    "print( 6-4*3+6 and 6 < 5)\n",
    "print( 6-4*3+6 or 6 < 5)\n",
    "print( not True )"
   ]
  },
  {
   "cell_type": "code",
   "execution_count": 16,
   "metadata": {},
   "outputs": [
    {
     "name": "stdout",
     "output_type": "stream",
     "text": [
      "{1: 'one'}\n"
     ]
    }
   ],
   "source": [
    "print( [1,2,3] and { 1 : 'one'})"
   ]
  },
  {
   "cell_type": "code",
   "execution_count": 19,
   "metadata": {},
   "outputs": [
    {
     "name": "stdout",
     "output_type": "stream",
     "text": [
      "X\tY\tand\tor\n",
      "True\tTrue\tTrue\tTrue\n",
      "True\tFalse\tFalse\tTrue\n",
      "False\tTrue\tFalse\tTrue\n",
      "False\tFalse\tFalse\tFalse\n"
     ]
    }
   ],
   "source": [
    "t = True\n",
    "f = False\n",
    "print(\"X\\tY\\tand\\tor\")\n",
    "print(\"{}\\t{}\\t{}\\t{}\".format(t, t, t and t, t or t))\n",
    "print(\"{}\\t{}\\t{}\\t{}\".format(t, f, t and f, t or f))\n",
    "print(\"{}\\t{}\\t{}\\t{}\".format(f, t, f and t, f or t))\n",
    "print(\"{}\\t{}\\t{}\\t{}\".format(f, f, f and f, f or f))"
   ]
  },
  {
   "cell_type": "code",
   "execution_count": 20,
   "metadata": {},
   "outputs": [
    {
     "name": "stdout",
     "output_type": "stream",
     "text": [
      "X\tnot\n",
      "True\tFalse\n",
      "False\tTrue\n"
     ]
    }
   ],
   "source": [
    "print(\"X\\tnot\")\n",
    "print(\"{}\\t{}\".format(True,not True))\n",
    "print(\"{}\\t{}\".format(False,not False))"
   ]
  },
  {
   "cell_type": "code",
   "execution_count": 21,
   "metadata": {},
   "outputs": [
    {
     "name": "stdout",
     "output_type": "stream",
     "text": [
      "something\n"
     ]
    }
   ],
   "source": [
    "#Assignment Operators\n",
    "x = 'something'\n",
    "print(x)"
   ]
  },
  {
   "cell_type": "code",
   "execution_count": 22,
   "metadata": {},
   "outputs": [
    {
     "name": "stdout",
     "output_type": "stream",
     "text": [
      "14.0\n"
     ]
    }
   ],
   "source": [
    "k = ( (6*5/2-5) and (6 < 4 or 3 > 6) or (10/2*3-1))\n",
    "print(k)"
   ]
  },
  {
   "cell_type": "code",
   "execution_count": 23,
   "metadata": {},
   "outputs": [
    {
     "name": "stdout",
     "output_type": "stream",
     "text": [
      "13\n",
      "8 7 hi hello how are you\n"
     ]
    }
   ],
   "source": [
    "x = 6+7\n",
    "print(x)\n",
    "x,y = 8,7\n",
    "l = ['hi','hello','how are you']\n",
    "a,b,c = l\n",
    "print(x,y,a,b,c)"
   ]
  },
  {
   "cell_type": "code",
   "execution_count": 24,
   "metadata": {},
   "outputs": [
    {
     "name": "stdout",
     "output_type": "stream",
     "text": [
      "6 5\n",
      "10 -2 60\n"
     ]
    }
   ],
   "source": [
    "x = 5\n",
    "y = 6\n",
    "x,y = y,x\n",
    "print(x,y)\n",
    "a = 4\n",
    "b = 6\n",
    "c = 10\n",
    "a,b,c = a+b,a-b,c*b\n",
    "print(a,b,c)"
   ]
  },
  {
   "cell_type": "markdown",
   "metadata": {},
   "source": [
    "# Membership Operator"
   ]
  },
  {
   "cell_type": "code",
   "execution_count": 1,
   "metadata": {},
   "outputs": [
    {
     "name": "stdout",
     "output_type": "stream",
     "text": [
      "Pattern found in step1\n",
      "True\n",
      "False\n",
      "True\n",
      "False\n"
     ]
    }
   ],
   "source": [
    "#in , not in\n",
    "s2 = \"Dog is an animal.\"\n",
    "s1 = \"Dog\"\n",
    "x = s1 in s2\n",
    "if x:\n",
    "    print(\"Pattern found in step1\")\n",
    "else:\n",
    "    print(\"Pattern not found\")\n",
    "p = s1 not in s2\n",
    "y = s1 in s2\n",
    "q = s1 not in s2\n",
    "print(x)\n",
    "print(p)\n",
    "print(y)\n",
    "print(q)"
   ]
  },
  {
   "cell_type": "code",
   "execution_count": 2,
   "metadata": {},
   "outputs": [
    {
     "name": "stdout",
     "output_type": "stream",
     "text": [
      "l2 found in l1\n"
     ]
    }
   ],
   "source": [
    "l1 = [ 1,2,6,5,[3,4]]\n",
    "l2 = [ 3,4]\n",
    "if l2 in l1:\n",
    "    print(\"l2 found in l1\")\n",
    "else:\n",
    "    print(\"No pattern found\")"
   ]
  },
  {
   "cell_type": "code",
   "execution_count": 2,
   "metadata": {},
   "outputs": [
    {
     "name": "stdout",
     "output_type": "stream",
     "text": [
      "Enter a number: 2342\n",
      "Number found in list\n"
     ]
    }
   ],
   "source": [
    "l = [ 1,2,6,324,23,4234,54,2342,3432 ]\n",
    "if int(input(\"Enter a number: \")) in l:\n",
    "    print(\"Number found in list\")\n",
    "else:\n",
    "    print(\"No such number in out list\")"
   ]
  },
  {
   "cell_type": "code",
   "execution_count": 4,
   "metadata": {},
   "outputs": [
    {
     "name": "stdout",
     "output_type": "stream",
     "text": [
      "Player1 : ········\n",
      "Player2 : ········\n",
      "Choice player1 :  rock\n",
      "Choice player2 :  paper\n"
     ]
    }
   ],
   "source": [
    "from getpass import getpass\n",
    "p1 = getpass(\"Player1 : \")\n",
    "p2 = getpass(\"Player2 : \")\n",
    "print(\"Choice player1 : \",p1)\n",
    "print(\"Choice player2 : \",p2)"
   ]
  },
  {
   "cell_type": "code",
   "execution_count": 2,
   "metadata": {},
   "outputs": [
    {
     "name": "stdout",
     "output_type": "stream",
     "text": [
      "Player1 : ········\n",
      "Player2 : ········\n",
      "Player1 is the Winner\n"
     ]
    }
   ],
   "source": [
    "#Rock Paper Scissor\n",
    "p1 = [ ('r','s'),('p','r'),('s','p')]\n",
    "from getpass import getpass\n",
    "ch1 = getpass(\"Player1 : \")\n",
    "ch2 = getpass(\"Player2 : \")\n",
    "if ch1 == ch2:\n",
    "    print(\"Match Tie\")\n",
    "elif (ch1,ch2) in p1:\n",
    "    print(\"Player1 is the Winner\")\n",
    "else:\n",
    "    print(\"Player2 is the Winner\")"
   ]
  },
  {
   "cell_type": "code",
   "execution_count": 4,
   "metadata": {},
   "outputs": [
    {
     "name": "stdout",
     "output_type": "stream",
     "text": [
      "Player1 (r,p,s) : ········\n",
      "Player2 (r,p,s) : ········\n",
      "Player2 Wins\n"
     ]
    }
   ],
   "source": [
    "from getpass import getpass\n",
    "p1 = getpass(\"Player1 (r,p,s) : \").strip().lower()\n",
    "p2 = getpass(\"Player2 (r,p,s) : \").strip().lower()\n",
    "\n",
    "if p1 == p2:\n",
    "    print(\"Mtach Tie\")\n",
    "elif ( p1 == 'r' and p2 == 's') or ( p1 == 'p' and p2 == 'r') or ( p1 == 's' and p2 == 'p'):\n",
    "    print(\"Player1 Wins\")\n",
    "else:\n",
    "    print(\"Player2 Wins\")"
   ]
  },
  {
   "cell_type": "markdown",
   "metadata": {},
   "source": [
    "# Identity Operator"
   ]
  },
  {
   "cell_type": "code",
   "execution_count": 5,
   "metadata": {},
   "outputs": [
    {
     "name": "stdout",
     "output_type": "stream",
     "text": [
      "True\n",
      "False\n",
      "Both are different\n"
     ]
    }
   ],
   "source": [
    "#is or is not\n",
    "x = 5\n",
    "y = 5\n",
    "print(x is y)\n",
    "print(x is not y)\n",
    "p = 3\n",
    "q = 4\n",
    "if p is q:\n",
    "    print(\"Both are equal\")\n",
    "else:\n",
    "    print(\"Both are different\")"
   ]
  },
  {
   "cell_type": "code",
   "execution_count": null,
   "metadata": {
    "collapsed": true
   },
   "outputs": [],
   "source": []
  }
 ],
 "metadata": {
  "kernelspec": {
   "display_name": "Python 3",
   "language": "python",
   "name": "python3"
  },
  "language_info": {
   "codemirror_mode": {
    "name": "ipython",
    "version": 3
   },
   "file_extension": ".py",
   "mimetype": "text/x-python",
   "name": "python",
   "nbconvert_exporter": "python",
   "pygments_lexer": "ipython3",
   "version": "3.6.3"
  }
 },
 "nbformat": 4,
 "nbformat_minor": 2
}
